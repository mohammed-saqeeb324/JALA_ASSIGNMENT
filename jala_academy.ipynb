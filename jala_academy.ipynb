{
 "cells": [
  {
   "cell_type": "markdown",
   "id": "e5757433-0746-4e5d-9be6-2d2a36ba1dbc",
   "metadata": {},
   "source": [
    "## Basic Arry Operations"
   ]
  },
  {
   "cell_type": "code",
   "execution_count": 2,
   "id": "8c28b426-89c2-4e39-8c59-b732ba9149a0",
   "metadata": {},
   "outputs": [],
   "source": [
    "#1 \n",
    "import numpy as np"
   ]
  },
  {
   "cell_type": "code",
   "execution_count": 3,
   "id": "fcfef361-3379-4a33-9041-2d3818a499d1",
   "metadata": {},
   "outputs": [
    {
     "data": {
      "text/plain": [
       "array([[1, 2, 3],\n",
       "       [4, 5, 6],\n",
       "       [7, 8, 9]])"
      ]
     },
     "execution_count": 3,
     "metadata": {},
     "output_type": "execute_result"
    }
   ],
   "source": [
    "array=np.array([[1,2,3],\n",
    "               [4,5,6],\n",
    "               [7,8,9]])\n",
    "array"
   ]
  },
  {
   "cell_type": "code",
   "execution_count": 4,
   "id": "ad491e26-b2df-4d2a-a252-9aa5d12f05b8",
   "metadata": {},
   "outputs": [
    {
     "data": {
      "text/plain": [
       "45"
      ]
     },
     "execution_count": 4,
     "metadata": {},
     "output_type": "execute_result"
    }
   ],
   "source": [
    "array.sum()"
   ]
  },
  {
   "cell_type": "code",
   "execution_count": 5,
   "id": "790ed754-d872-46e7-8b3f-43615a4b8b11",
   "metadata": {},
   "outputs": [
    {
     "data": {
      "text/plain": [
       "5.0"
      ]
     },
     "execution_count": 5,
     "metadata": {},
     "output_type": "execute_result"
    }
   ],
   "source": [
    "array.mean()"
   ]
  },
  {
   "cell_type": "code",
   "execution_count": 6,
   "id": "243de54c-c6a5-45bc-89e4-a807718b4770",
   "metadata": {},
   "outputs": [
    {
     "data": {
      "text/plain": [
       "2.581988897471611"
      ]
     },
     "execution_count": 6,
     "metadata": {},
     "output_type": "execute_result"
    }
   ],
   "source": [
    "array.std()"
   ]
  },
  {
   "cell_type": "code",
   "execution_count": 7,
   "id": "40e8804a-429f-4f6f-b960-c88c64932e4e",
   "metadata": {},
   "outputs": [
    {
     "data": {
      "text/plain": [
       "array([ 1,  3,  6, 10, 15, 21, 28, 36, 45, 55])"
      ]
     },
     "execution_count": 7,
     "metadata": {},
     "output_type": "execute_result"
    }
   ],
   "source": [
    "#2\n",
    "array2=np.array([1,2,3,4,5,6,7,8,9,10])\n",
    "cumsum=np.cumsum(array2)\n",
    "cumsum"
   ]
  },
  {
   "cell_type": "code",
   "execution_count": 8,
   "id": "7235ed5e-7741-4a99-b22a-f83ca9552dbc",
   "metadata": {},
   "outputs": [
    {
     "name": "stdout",
     "output_type": "stream",
     "text": [
      "addition [[ 3  3  6]\n",
      " [ 9  8 13]]\n",
      "substraction [[-1  1  0]\n",
      " [-1  2 -1]]\n",
      "multiplication [[ 2  2  9]\n",
      " [20 15 42]]\n",
      "division [[0.5        2.         1.        ]\n",
      " [0.8        1.66666667 0.85714286]]\n"
     ]
    }
   ],
   "source": [
    "#3\n",
    "a=np.array([[1,2,3],\n",
    "    [4,5,6]])\n",
    "b=np.array([[2,1,3],\n",
    "    [5,3,7]])\n",
    "print('addition',a+b)\n",
    "print('substraction',a-b)\n",
    "print('multiplication',a*b)\n",
    "print(\"division\",a/b)"
   ]
  },
  {
   "cell_type": "code",
   "execution_count": 269,
   "id": "9a7bea0f-8093-4585-b7b9-92f5607c662c",
   "metadata": {},
   "outputs": [
    {
     "name": "stdout",
     "output_type": "stream",
     "text": [
      "[[1. 0. 0. 0.]\n",
      " [0. 1. 0. 0.]\n",
      " [0. 0. 1. 0.]\n",
      " [0. 0. 0. 1.]]\n"
     ]
    }
   ],
   "source": [
    "#4\n",
    "identity_matrix = np.eye(4)\n",
    "\n",
    "print(identity_matrix)\n"
   ]
  },
  {
   "cell_type": "code",
   "execution_count": 10,
   "id": "2df9685f-06c8-4ee9-9708-0e2ece8afb4a",
   "metadata": {},
   "outputs": [
    {
     "data": {
      "text/plain": [
       "array([1., 2., 3., 4., 5.])"
      ]
     },
     "execution_count": 10,
     "metadata": {},
     "output_type": "execute_result"
    }
   ],
   "source": [
    "#5\n",
    "a=np.array([5,10,15,20,25])\n",
    "a/5"
   ]
  },
  {
   "cell_type": "markdown",
   "id": "d731e71d-d326-47b4-a8ad-6e0f179fb3be",
   "metadata": {},
   "source": [
    "## Array manipulation"
   ]
  },
  {
   "cell_type": "code",
   "execution_count": 11,
   "id": "b9150187-708f-48d7-af7f-d2e61701d0e6",
   "metadata": {},
   "outputs": [
    {
     "data": {
      "text/plain": [
       "array([[1, 2, 3, 4],\n",
       "       [5, 6, 7, 8],\n",
       "       [9, 8, 7, 6]])"
      ]
     },
     "execution_count": 11,
     "metadata": {},
     "output_type": "execute_result"
    }
   ],
   "source": [
    "#6\n",
    "a=np.array([1,2,3,4,5,6,7,8,9,8,7,6])\n",
    "matrix=a.reshape((3,4))\n",
    "matrix"
   ]
  },
  {
   "cell_type": "code",
   "execution_count": 12,
   "id": "97abf498-02e8-4929-b3d2-9a85ccf1b09d",
   "metadata": {},
   "outputs": [
    {
     "name": "stdout",
     "output_type": "stream",
     "text": [
      "3x3 matrix [[1 2 3]\n",
      " [2 3 4]\n",
      " [3 4 5]]\n",
      "flatten array [1 2 3 2 3 4 3 4 5]\n"
     ]
    }
   ],
   "source": [
    "#7\n",
    "a=np.array([[1,2,3],[2,3,4],[3,4,5]])\n",
    "print(\"3x3 matrix\",a)\n",
    "flatten=a.flatten()\n",
    "print(\"flatten array\",flatten)"
   ]
  },
  {
   "cell_type": "code",
   "execution_count": 13,
   "id": "85d2525d-3ab7-4d93-936e-7cbc1227cfc2",
   "metadata": {},
   "outputs": [
    {
     "name": "stdout",
     "output_type": "stream",
     "text": [
      "A matrix [[1 2 3]\n",
      " [2 3 4]\n",
      " [3 4 5]]\n",
      "B matrix [[2 1 3]\n",
      " [5 3 7]]\n",
      "Hstack [[1 2 3 3 2 1]\n",
      " [2 3 4 4 3 2]\n",
      " [3 4 5 5 4 3]]\n",
      "Vstack [[1 2 3]\n",
      " [2 3 4]\n",
      " [3 4 5]\n",
      " [3 2 1]\n",
      " [4 3 2]\n",
      " [5 4 3]]\n"
     ]
    }
   ],
   "source": [
    "#8\n",
    "A=np.array([[1,2,3],[2,3,4],[3,4,5]])\n",
    "B=np.array([[3,2,1],[4,3,2],[5,4,3]])\n",
    "print(\"A matrix\",a)\n",
    "print(\"B matrix\",b)\n",
    "Hstack=np.hstack((A,B))\n",
    "Vstack=np.vstack((A,B))\n",
    "print(\"Hstack\",Hstack)\n",
    "print(\"Vstack\",Vstack)"
   ]
  },
  {
   "cell_type": "code",
   "execution_count": 14,
   "id": "97ba3eb8-5af7-4e5d-8936-3ce0b4b4a40c",
   "metadata": {},
   "outputs": [
    {
     "data": {
      "text/plain": [
       "array([[1, 2, 3],\n",
       "       [4, 5, 0]])"
      ]
     },
     "execution_count": 14,
     "metadata": {},
     "output_type": "execute_result"
    }
   ],
   "source": [
    "#9\n",
    "a = np.array([1, 2, 3])\n",
    "b = np.array([4, 5])\n",
    "\n",
    "b_padded = np.pad(b, (0, len(a) - len(b)), mode='constant')\n",
    "\n",
    "result = np.stack((a, b_padded), axis=0)\n",
    "result"
   ]
  },
  {
   "cell_type": "code",
   "execution_count": 15,
   "id": "8bce7663-4a21-4b01-b849-bbe2b7b2352a",
   "metadata": {},
   "outputs": [
    {
     "name": "stdout",
     "output_type": "stream",
     "text": [
      "Original matrix:\n",
      " [[1 2]\n",
      " [3 4]\n",
      " [5 6]]\n",
      "Transposed matrix:\n",
      " [[1 3 5]\n",
      " [2 4 6]]\n",
      "Reshaped to 3x2:\n",
      " [[1 3]\n",
      " [5 2]\n",
      " [4 6]]\n"
     ]
    }
   ],
   "source": [
    "#10\n",
    "matrix = np.array([[1, 2],\n",
    "                   [3, 4],\n",
    "                   [5, 6]])\n",
    "\n",
    "transposed = matrix.T\n",
    "reshaped = transposed.reshape((3, 2))\n",
    "\n",
    "print(\"Original matrix:\\n\", matrix)\n",
    "print(\"Transposed matrix:\\n\", transposed)\n",
    "print(\"Reshaped to 3x2:\\n\", reshaped)\n"
   ]
  },
  {
   "cell_type": "markdown",
   "id": "a04dd5f9-9b59-4021-b9ff-ca8898656f6f",
   "metadata": {},
   "source": [
    "## Indexing And Slicing"
   ]
  },
  {
   "cell_type": "code",
   "execution_count": 16,
   "id": "b33647b6-9eac-4766-8d02-8a2e3fc597cd",
   "metadata": {},
   "outputs": [
    {
     "ename": "IndexError",
     "evalue": "index 9 is out of bounds for axis 0 with size 7",
     "output_type": "error",
     "traceback": [
      "\u001b[1;31m---------------------------------------------------------------------------\u001b[0m",
      "\u001b[1;31mIndexError\u001b[0m                                Traceback (most recent call last)",
      "Cell \u001b[1;32mIn[16], line 4\u001b[0m\n\u001b[0;32m      2\u001b[0m sliced\u001b[38;5;241m=\u001b[39ma[::\u001b[38;5;241m2\u001b[39m]\n\u001b[0;32m      3\u001b[0m second\u001b[38;5;241m=\u001b[39msliced[\u001b[38;5;241m1\u001b[39m]\n\u001b[1;32m----> 4\u001b[0m tenth\u001b[38;5;241m=\u001b[39msliced[\u001b[38;5;241m9\u001b[39m]\n\u001b[0;32m      5\u001b[0m \u001b[38;5;28mprint\u001b[39m(second)\n\u001b[0;32m      6\u001b[0m \u001b[38;5;28mprint\u001b[39m(tenth)\n",
      "\u001b[1;31mIndexError\u001b[0m: index 9 is out of bounds for axis 0 with size 7"
     ]
    }
   ],
   "source": [
    "#11\n",
    "a=np.array([1,2,3,4,5,6,7,8,9,8,7,6,5,4])\n",
    "sliced=a[::2]\n",
    "second=sliced[1]\n",
    "tenth=sliced[9]\n",
    "print(second)\n",
    "print(tenth)\n",
    "#gives a error out of bound"
   ]
  },
  {
   "cell_type": "code",
   "execution_count": 38,
   "id": "b5b0d5dd-2f8d-4d99-a98f-0a8db6e5cc49",
   "metadata": {},
   "outputs": [
    {
     "name": "stdout",
     "output_type": "stream",
     "text": [
      "[[ 1  2  3  4  5]\n",
      " [ 6  7  8  9 10]\n",
      " [11 12 13 14 15]\n",
      " [16 17 18 19 20]\n",
      " [21 22 23 24 25]]\n"
     ]
    },
    {
     "data": {
      "text/plain": [
       "array([[ 8,  9, 10],\n",
       "       [13, 14, 15],\n",
       "       [18, 19, 20]])"
      ]
     },
     "execution_count": 38,
     "metadata": {},
     "output_type": "execute_result"
    }
   ],
   "source": [
    "#12\n",
    "matrix = np.arange(1, 26).reshape((5, 5))\n",
    "print(matrix)\n",
    "sub_matrix = matrix[1:4, 2:5]\n",
    "sub_matrix"
   ]
  },
  {
   "cell_type": "code",
   "execution_count": 40,
   "id": "ec1913a6-168a-4a01-9a8a-65e8ec3f9432",
   "metadata": {},
   "outputs": [
    {
     "name": "stdout",
     "output_type": "stream",
     "text": [
      "Modified array: [ 5 10  7 10  3 10 10]\n"
     ]
    }
   ],
   "source": [
    "#13\n",
    "arr = np.array([5, 12, 7, 15, 3, 10, 18])\n",
    "arr[arr > 10] = 10\n",
    "print(\"Modified array:\", arr)\n"
   ]
  },
  {
   "cell_type": "code",
   "execution_count": 42,
   "id": "317100d8-a97b-49d3-90e7-ec043daf6990",
   "metadata": {},
   "outputs": [
    {
     "data": {
      "text/plain": [
       "array([10, 30, 50, 70])"
      ]
     },
     "execution_count": 42,
     "metadata": {},
     "output_type": "execute_result"
    }
   ],
   "source": [
    "#14\n",
    "arr = np.array([10, 20, 30, 40, 50, 60, 70, 80])\n",
    "selected = arr[[0, 2, 4, 6]]\n",
    "selected"
   ]
  },
  {
   "cell_type": "code",
   "execution_count": 44,
   "id": "0056e2b0-1b56-49ff-8396-72c7ed85bd05",
   "metadata": {},
   "outputs": [
    {
     "data": {
      "text/plain": [
       "array([100,  90,  80,  70,  60,  50,  40,  30,  20,  10])"
      ]
     },
     "execution_count": 44,
     "metadata": {},
     "output_type": "execute_result"
    }
   ],
   "source": [
    "#15\n",
    "arr = np.array([10, 20, 30, 40, 50, 60, 70, 80, 90, 100])\n",
    "arr[::-1]"
   ]
  },
  {
   "cell_type": "markdown",
   "id": "63a1cfa7-47c6-44c7-a51b-a720e16a0966",
   "metadata": {},
   "source": [
    "## Broadcasting"
   ]
  },
  {
   "cell_type": "code",
   "execution_count": 46,
   "id": "b57907b1-2b1b-4d3b-a593-1b13fc01321f",
   "metadata": {},
   "outputs": [
    {
     "data": {
      "text/plain": [
       "array([[11, 22, 33],\n",
       "       [14, 25, 36],\n",
       "       [17, 28, 39]])"
      ]
     },
     "execution_count": 46,
     "metadata": {},
     "output_type": "execute_result"
    }
   ],
   "source": [
    "#16\n",
    "matrix = np.array([[1, 2, 3],\n",
    "                   [4, 5, 6],\n",
    "                   [7, 8, 9]])\n",
    "row_array = np.array([10, 20, 30])\n",
    "result = matrix + row_array\n",
    "result"
   ]
  },
  {
   "cell_type": "code",
   "execution_count": 48,
   "id": "8b6498b6-7e7d-4f5e-83a6-4ddb5e2faf78",
   "metadata": {},
   "outputs": [
    {
     "data": {
      "text/plain": [
       "array([ 6, 12, 18, 24, 30])"
      ]
     },
     "execution_count": 48,
     "metadata": {},
     "output_type": "execute_result"
    }
   ],
   "source": [
    "#17\n",
    "array = np.array([2, 4, 6, 8, 10])\n",
    "scalar=3\n",
    "result = array * scalar\n",
    "result\n"
   ]
  },
  {
   "cell_type": "code",
   "execution_count": 50,
   "id": "b0113d1f-e088-4650-b292-704b3f33e2db",
   "metadata": {},
   "outputs": [
    {
     "name": "stdout",
     "output_type": "stream",
     "text": [
      "[[ 4  5  6]\n",
      " [ 6  7  8]\n",
      " [ 8  9 10]]\n"
     ]
    }
   ],
   "source": [
    "#18\n",
    "matrix = np.array([[5, 6, 7],\n",
    "                   [8, 9, 10],\n",
    "                   [11, 12, 13]])\n",
    "column_vector = np.array([[1],\n",
    "                          [2],\n",
    "                          [3]])\n",
    "result = matrix - column_vector\n",
    "\n",
    "print(result)\n"
   ]
  },
  {
   "cell_type": "code",
   "execution_count": 52,
   "id": "fe995bbe-5590-4133-afd1-f67f084e6110",
   "metadata": {},
   "outputs": [
    {
     "data": {
      "text/plain": [
       "array([[[101, 102, 103, 104],\n",
       "        [105, 106, 107, 108],\n",
       "        [109, 110, 111, 112]],\n",
       "\n",
       "       [[113, 114, 115, 116],\n",
       "        [117, 118, 119, 120],\n",
       "        [121, 122, 123, 124]]])"
      ]
     },
     "execution_count": 52,
     "metadata": {},
     "output_type": "execute_result"
    }
   ],
   "source": [
    "#19\n",
    "array_3d = np.array([[[1, 2, 3, 4],\n",
    "                      [5, 6, 7, 8],\n",
    "                      [9, 10, 11, 12]],\n",
    "                     \n",
    "                     [[13, 14, 15, 16],\n",
    "                      [17, 18, 19, 20],\n",
    "                      [21, 22, 23, 24]]])\n",
    "scalar = 100\n",
    "result = array_3d + scalar\n",
    "result"
   ]
  },
  {
   "cell_type": "code",
   "execution_count": 54,
   "id": "fa78c408-95c3-4b88-af71-dcc2f384a7f6",
   "metadata": {},
   "outputs": [
    {
     "data": {
      "text/plain": [
       "array([[11, 21, 31, 41, 51],\n",
       "       [12, 22, 32, 42, 52],\n",
       "       [13, 23, 33, 43, 53],\n",
       "       [14, 24, 34, 44, 54]])"
      ]
     },
     "execution_count": 54,
     "metadata": {},
     "output_type": "execute_result"
    }
   ],
   "source": [
    "#20\n",
    "array_4x1 = np.array([[1],\n",
    "                      [2],\n",
    "                      [3],\n",
    "                      [4]])\n",
    "array_1x5 = np.array([[10, 20, 30, 40, 50]])\n",
    "result = array_4x1 + array_1x5\n",
    "result"
   ]
  },
  {
   "cell_type": "markdown",
   "id": "42f7c41a-510e-4d06-9492-7cf5447fcac3",
   "metadata": {},
   "source": [
    "## Vectorized Operations"
   ]
  },
  {
   "cell_type": "code",
   "execution_count": 56,
   "id": "40dc4bc6-12b6-4f0d-a2a4-654406404de3",
   "metadata": {},
   "outputs": [
    {
     "data": {
      "text/plain": [
       "array([[2., 3., 4.],\n",
       "       [5., 6., 7.]])"
      ]
     },
     "execution_count": 56,
     "metadata": {},
     "output_type": "execute_result"
    }
   ],
   "source": [
    "#21\n",
    "array_2d = np.array([[4, 9, 16],\n",
    "                     [25, 36, 49]])\n",
    "sqrt_array = np.sqrt(array_2d)\n",
    "sqrt_array"
   ]
  },
  {
   "cell_type": "code",
   "execution_count": 58,
   "id": "057296a2-762e-48c6-9ed3-66d5cbea6da1",
   "metadata": {},
   "outputs": [
    {
     "data": {
      "text/plain": [
       "550"
      ]
     },
     "execution_count": 58,
     "metadata": {},
     "output_type": "execute_result"
    }
   ],
   "source": [
    "#22\n",
    "a = np.array([1, 2, 3, 4, 5])\n",
    "b = np.array([10, 20, 30, 40, 50])\n",
    "dot_product = np.dot(a, b)\n",
    "dot_product"
   ]
  },
  {
   "cell_type": "code",
   "execution_count": 60,
   "id": "483c6fac-c6ca-4d84-b078-3cc99b2e5f7d",
   "metadata": {},
   "outputs": [
    {
     "name": "stdout",
     "output_type": "stream",
     "text": [
      "Comparison result: [ True False  True False  True]\n"
     ]
    }
   ],
   "source": [
    "#23\n",
    "a = np.array([5, 10, 15, 20, 25])\n",
    "b = np.array([3, 12, 14, 22, 20])\n",
    "comparison = a > b\n",
    "print(\"Comparison result:\", comparison)\n"
   ]
  },
  {
   "cell_type": "code",
   "execution_count": 62,
   "id": "417d385f-a32b-4aa5-a564-ba694f8c6847",
   "metadata": {},
   "outputs": [
    {
     "data": {
      "text/plain": [
       "array([[ 2,  4,  6],\n",
       "       [ 8, 10, 12]])"
      ]
     },
     "execution_count": 62,
     "metadata": {},
     "output_type": "execute_result"
    }
   ],
   "source": [
    "#24\n",
    "array_2d = np.array([[1, 2, 3],\n",
    "                     [4, 5, 6]])\n",
    "doubled_array = array_2d * 2\n",
    "doubled_array"
   ]
  },
  {
   "cell_type": "code",
   "execution_count": 64,
   "id": "18fae6cc-3df4-46e6-86c3-7d792fa21387",
   "metadata": {},
   "outputs": [
    {
     "name": "stdout",
     "output_type": "stream",
     "text": [
      "Sum of even numbers: 2636\n"
     ]
    }
   ],
   "source": [
    "#25\n",
    "random_array = np.random.randint(1, 101, size=100)\n",
    "even_numbers = random_array[random_array % 2 == 0]\n",
    "sum_even = np.sum(even_numbers)\n",
    "print(\"Sum of even numbers:\", sum_even)"
   ]
  },
  {
   "cell_type": "markdown",
   "id": "615c9bca-a7cf-4bbf-bf36-e1a0215114e0",
   "metadata": {},
   "source": [
    "## Linear Algebra"
   ]
  },
  {
   "cell_type": "code",
   "execution_count": 66,
   "id": "3ba1360a-380a-4611-82b4-c14926c54621",
   "metadata": {},
   "outputs": [
    {
     "data": {
      "text/plain": [
       "-20.000000000000007"
      ]
     },
     "execution_count": 66,
     "metadata": {},
     "output_type": "execute_result"
    }
   ],
   "source": [
    "#26\n",
    "matrix = np.array([[2, 5, 3],\n",
    "                   [1, -2, -1],\n",
    "                   [1, 3, 4]])\n",
    "determinant = np.linalg.det(matrix)\n",
    "determinant"
   ]
  },
  {
   "cell_type": "code",
   "execution_count": 68,
   "id": "272d05cc-a3d7-4046-991b-2e0cbdcd3c41",
   "metadata": {},
   "outputs": [
    {
     "data": {
      "text/plain": [
       "array([[ 1.00000000e+00, -1.11022302e-16],\n",
       "       [ 1.11022302e-16,  1.00000000e+00]])"
      ]
     },
     "execution_count": 68,
     "metadata": {},
     "output_type": "execute_result"
    }
   ],
   "source": [
    "#27\n",
    "A = np.array([[4, 7],\n",
    "              [2, 6]])\n",
    "A_inv = np.linalg.inv(A)\n",
    "identity = np.dot(A, A_inv)\n",
    "identity"
   ]
  },
  {
   "cell_type": "code",
   "execution_count": 70,
   "id": "3bc46676-d7e4-4476-aec4-6db2fc80cfe8",
   "metadata": {},
   "outputs": [
    {
     "data": {
      "text/plain": [
       "(array([5., 2.]),\n",
       " array([[ 0.89442719, -0.70710678],\n",
       "        [ 0.4472136 ,  0.70710678]]))"
      ]
     },
     "execution_count": 70,
     "metadata": {},
     "output_type": "execute_result"
    }
   ],
   "source": [
    "#28\n",
    "A = np.array([[4, 2],\n",
    "              [1, 3]])\n",
    "eigenvalues, eigenvectors = np.linalg.eig(A)\n",
    "eigenvalues, eigenvectors"
   ]
  },
  {
   "cell_type": "code",
   "execution_count": 72,
   "id": "b24ec0d9-cb24-4574-bd56-899b16c21184",
   "metadata": {},
   "outputs": [
    {
     "name": "stdout",
     "output_type": "stream",
     "text": [
      "The system has either no solution or infinitely many solutions (dependent equations).\n"
     ]
    }
   ],
   "source": [
    "#29\n",
    "A = np.array([[2, 3],\n",
    "              [4, 6]])\n",
    "b = np.array([5, 10])\n",
    "det = np.linalg.det(A)\n",
    "if np.isclose(det, 0):\n",
    "    print(\"The system has either no solution or infinitely many solutions (dependent equations).\")\n",
    "else:\n",
    "    solution = np.linalg.solve(A, b)\n",
    "    print(\"Solution:\", solution)\n"
   ]
  },
  {
   "cell_type": "code",
   "execution_count": 74,
   "id": "9b4de157-b755-48cd-9fdb-1882ccef0dc2",
   "metadata": {},
   "outputs": [
    {
     "name": "stdout",
     "output_type": "stream",
     "text": [
      "Original Matrix A:\n",
      " [[ 3  1  1]\n",
      " [-1  3  1]\n",
      " [ 1  1  3]]\n",
      "\n",
      "Reconstructed Matrix A:\n",
      " [[ 3.  1.  1.]\n",
      " [-1.  3.  1.]\n",
      " [ 1.  1.  3.]]\n"
     ]
    }
   ],
   "source": [
    "#30\n",
    "A = np.array([[3, 1, 1],\n",
    "              [-1, 3, 1],\n",
    "              [1, 1, 3]])\n",
    "U, S, VT = np.linalg.svd(A)\n",
    "S_matrix = np.zeros((3, 3))\n",
    "np.fill_diagonal(S_matrix, S)\n",
    "A_reconstructed = np.dot(U, np.dot(S_matrix, VT))\n",
    "print(\"Original Matrix A:\\n\", A)\n",
    "print(\"\\nReconstructed Matrix A:\\n\", A_reconstructed)\n"
   ]
  },
  {
   "cell_type": "markdown",
   "id": "57b273c8-5686-4995-9b13-04d2cd218b08",
   "metadata": {},
   "source": [
    "## 1. Data Import and Cleaning"
   ]
  },
  {
   "cell_type": "code",
   "execution_count": 77,
   "id": "b39fb930-bac8-46f3-944c-fa45a26fb8fb",
   "metadata": {},
   "outputs": [
    {
     "data": {
      "text/html": [
       "<div>\n",
       "<style scoped>\n",
       "    .dataframe tbody tr th:only-of-type {\n",
       "        vertical-align: middle;\n",
       "    }\n",
       "\n",
       "    .dataframe tbody tr th {\n",
       "        vertical-align: top;\n",
       "    }\n",
       "\n",
       "    .dataframe thead th {\n",
       "        text-align: right;\n",
       "    }\n",
       "</style>\n",
       "<table border=\"1\" class=\"dataframe\">\n",
       "  <thead>\n",
       "    <tr style=\"text-align: right;\">\n",
       "      <th></th>\n",
       "      <th>PassengerId</th>\n",
       "      <th>Survived</th>\n",
       "      <th>Pclass</th>\n",
       "      <th>Name</th>\n",
       "      <th>Sex</th>\n",
       "      <th>Age</th>\n",
       "      <th>SibSp</th>\n",
       "      <th>Parch</th>\n",
       "      <th>Ticket</th>\n",
       "      <th>Fare</th>\n",
       "      <th>Cabin</th>\n",
       "      <th>Embarked</th>\n",
       "    </tr>\n",
       "  </thead>\n",
       "  <tbody>\n",
       "    <tr>\n",
       "      <th>0</th>\n",
       "      <td>1</td>\n",
       "      <td>0</td>\n",
       "      <td>3</td>\n",
       "      <td>Braund, Mr. Owen Harris</td>\n",
       "      <td>male</td>\n",
       "      <td>22.0</td>\n",
       "      <td>1</td>\n",
       "      <td>0</td>\n",
       "      <td>A/5 21171</td>\n",
       "      <td>7.2500</td>\n",
       "      <td>NaN</td>\n",
       "      <td>S</td>\n",
       "    </tr>\n",
       "    <tr>\n",
       "      <th>1</th>\n",
       "      <td>2</td>\n",
       "      <td>1</td>\n",
       "      <td>1</td>\n",
       "      <td>Cumings, Mrs. John Bradley (Florence Briggs Th...</td>\n",
       "      <td>female</td>\n",
       "      <td>38.0</td>\n",
       "      <td>1</td>\n",
       "      <td>0</td>\n",
       "      <td>PC 17599</td>\n",
       "      <td>71.2833</td>\n",
       "      <td>C85</td>\n",
       "      <td>C</td>\n",
       "    </tr>\n",
       "    <tr>\n",
       "      <th>2</th>\n",
       "      <td>3</td>\n",
       "      <td>1</td>\n",
       "      <td>3</td>\n",
       "      <td>Heikkinen, Miss. Laina</td>\n",
       "      <td>female</td>\n",
       "      <td>26.0</td>\n",
       "      <td>0</td>\n",
       "      <td>0</td>\n",
       "      <td>STON/O2. 3101282</td>\n",
       "      <td>7.9250</td>\n",
       "      <td>NaN</td>\n",
       "      <td>S</td>\n",
       "    </tr>\n",
       "    <tr>\n",
       "      <th>3</th>\n",
       "      <td>4</td>\n",
       "      <td>1</td>\n",
       "      <td>1</td>\n",
       "      <td>Futrelle, Mrs. Jacques Heath (Lily May Peel)</td>\n",
       "      <td>female</td>\n",
       "      <td>35.0</td>\n",
       "      <td>1</td>\n",
       "      <td>0</td>\n",
       "      <td>113803</td>\n",
       "      <td>53.1000</td>\n",
       "      <td>C123</td>\n",
       "      <td>S</td>\n",
       "    </tr>\n",
       "    <tr>\n",
       "      <th>4</th>\n",
       "      <td>5</td>\n",
       "      <td>0</td>\n",
       "      <td>3</td>\n",
       "      <td>Allen, Mr. William Henry</td>\n",
       "      <td>male</td>\n",
       "      <td>35.0</td>\n",
       "      <td>0</td>\n",
       "      <td>0</td>\n",
       "      <td>373450</td>\n",
       "      <td>8.0500</td>\n",
       "      <td>NaN</td>\n",
       "      <td>S</td>\n",
       "    </tr>\n",
       "  </tbody>\n",
       "</table>\n",
       "</div>"
      ],
      "text/plain": [
       "   PassengerId  Survived  Pclass  \\\n",
       "0            1         0       3   \n",
       "1            2         1       1   \n",
       "2            3         1       3   \n",
       "3            4         1       1   \n",
       "4            5         0       3   \n",
       "\n",
       "                                                Name     Sex   Age  SibSp  \\\n",
       "0                            Braund, Mr. Owen Harris    male  22.0      1   \n",
       "1  Cumings, Mrs. John Bradley (Florence Briggs Th...  female  38.0      1   \n",
       "2                             Heikkinen, Miss. Laina  female  26.0      0   \n",
       "3       Futrelle, Mrs. Jacques Heath (Lily May Peel)  female  35.0      1   \n",
       "4                           Allen, Mr. William Henry    male  35.0      0   \n",
       "\n",
       "   Parch            Ticket     Fare Cabin Embarked  \n",
       "0      0         A/5 21171   7.2500   NaN        S  \n",
       "1      0          PC 17599  71.2833   C85        C  \n",
       "2      0  STON/O2. 3101282   7.9250   NaN        S  \n",
       "3      0            113803  53.1000  C123        S  \n",
       "4      0            373450   8.0500   NaN        S  "
      ]
     },
     "execution_count": 77,
     "metadata": {},
     "output_type": "execute_result"
    }
   ],
   "source": [
    "import pandas as pd\n",
    "df=pd.read_csv(\"train.csv\")\n",
    "df.head()"
   ]
  },
  {
   "cell_type": "code",
   "execution_count": 79,
   "id": "0291f6d7-b1e9-4e5a-a52c-caa862b43409",
   "metadata": {},
   "outputs": [
    {
     "data": {
      "text/plain": [
       "PassengerId      0\n",
       "Survived         0\n",
       "Pclass           0\n",
       "Name             0\n",
       "Sex              0\n",
       "Age            177\n",
       "SibSp            0\n",
       "Parch            0\n",
       "Ticket           0\n",
       "Fare             0\n",
       "Cabin          687\n",
       "Embarked         2\n",
       "dtype: int64"
      ]
     },
     "execution_count": 79,
     "metadata": {},
     "output_type": "execute_result"
    }
   ],
   "source": [
    "df.isnull().sum()"
   ]
  },
  {
   "cell_type": "code",
   "execution_count": 81,
   "id": "17d4c192-c0fb-450c-a046-f0cd37350626",
   "metadata": {},
   "outputs": [],
   "source": [
    "df=df.dropna()\n"
   ]
  },
  {
   "cell_type": "code",
   "execution_count": 83,
   "id": "c9c62fb4-3a6c-4955-b56a-def87d28b34a",
   "metadata": {},
   "outputs": [
    {
     "data": {
      "text/plain": [
       "PassengerId    0\n",
       "Survived       0\n",
       "Pclass         0\n",
       "Name           0\n",
       "Sex            0\n",
       "Age            0\n",
       "SibSp          0\n",
       "Parch          0\n",
       "Ticket         0\n",
       "Fare           0\n",
       "Cabin          0\n",
       "Embarked       0\n",
       "dtype: int64"
      ]
     },
     "execution_count": 83,
     "metadata": {},
     "output_type": "execute_result"
    }
   ],
   "source": [
    "df.isnull().sum()"
   ]
  },
  {
   "cell_type": "code",
   "execution_count": 85,
   "id": "8a4973d8-8f6b-4b6c-84db-9e648e36082a",
   "metadata": {},
   "outputs": [],
   "source": [
    "df1=pd.read_csv(\"flightsdata.csv\")"
   ]
  },
  {
   "cell_type": "code",
   "execution_count": 86,
   "id": "9188cd6e-69c8-4c78-8baa-9c7c2862736d",
   "metadata": {},
   "outputs": [
    {
     "data": {
      "text/plain": [
       "Unnamed: 0           0\n",
       "year                 0\n",
       "month                0\n",
       "day                  0\n",
       "dep_time          8255\n",
       "sched_dep_time       0\n",
       "dep_delay         8255\n",
       "arr_time          8713\n",
       "sched_arr_time       0\n",
       "arr_delay         9430\n",
       "carrier              0\n",
       "flight               0\n",
       "tailnum           2512\n",
       "origin               0\n",
       "dest                 0\n",
       "air_time          9430\n",
       "distance             0\n",
       "hour                 0\n",
       "minute               0\n",
       "time_hour            0\n",
       "dtype: int64"
      ]
     },
     "execution_count": 86,
     "metadata": {},
     "output_type": "execute_result"
    }
   ],
   "source": [
    "df1.isnull().sum()"
   ]
  },
  {
   "cell_type": "code",
   "execution_count": 87,
   "id": "ba96e579-eb1b-4c07-8b65-65d77a1c226f",
   "metadata": {},
   "outputs": [
    {
     "name": "stderr",
     "output_type": "stream",
     "text": [
      "C:\\Users\\moham\\AppData\\Local\\Temp\\ipykernel_28884\\2076358856.py:1: FutureWarning: A value is trying to be set on a copy of a DataFrame or Series through chained assignment using an inplace method.\n",
      "The behavior will change in pandas 3.0. This inplace method will never work because the intermediate object on which we are setting values always behaves as a copy.\n",
      "\n",
      "For example, when doing 'df[col].method(value, inplace=True)', try using 'df.method({col: value}, inplace=True)' or df[col] = df[col].method(value) instead, to perform the operation inplace on the original object.\n",
      "\n",
      "\n",
      "  df1['dep_time'].fillna(df1['dep_time'].mean(),inplace=True)\n",
      "C:\\Users\\moham\\AppData\\Local\\Temp\\ipykernel_28884\\2076358856.py:2: FutureWarning: A value is trying to be set on a copy of a DataFrame or Series through chained assignment using an inplace method.\n",
      "The behavior will change in pandas 3.0. This inplace method will never work because the intermediate object on which we are setting values always behaves as a copy.\n",
      "\n",
      "For example, when doing 'df[col].method(value, inplace=True)', try using 'df.method({col: value}, inplace=True)' or df[col] = df[col].method(value) instead, to perform the operation inplace on the original object.\n",
      "\n",
      "\n",
      "  df1['dep_delay'].fillna(df1['dep_delay'].mean(),inplace=True)\n",
      "C:\\Users\\moham\\AppData\\Local\\Temp\\ipykernel_28884\\2076358856.py:3: FutureWarning: A value is trying to be set on a copy of a DataFrame or Series through chained assignment using an inplace method.\n",
      "The behavior will change in pandas 3.0. This inplace method will never work because the intermediate object on which we are setting values always behaves as a copy.\n",
      "\n",
      "For example, when doing 'df[col].method(value, inplace=True)', try using 'df.method({col: value}, inplace=True)' or df[col] = df[col].method(value) instead, to perform the operation inplace on the original object.\n",
      "\n",
      "\n",
      "  df1['arr_time'].fillna(df1['arr_time'].mean(),inplace=True)\n",
      "C:\\Users\\moham\\AppData\\Local\\Temp\\ipykernel_28884\\2076358856.py:4: FutureWarning: A value is trying to be set on a copy of a DataFrame or Series through chained assignment using an inplace method.\n",
      "The behavior will change in pandas 3.0. This inplace method will never work because the intermediate object on which we are setting values always behaves as a copy.\n",
      "\n",
      "For example, when doing 'df[col].method(value, inplace=True)', try using 'df.method({col: value}, inplace=True)' or df[col] = df[col].method(value) instead, to perform the operation inplace on the original object.\n",
      "\n",
      "\n",
      "  df1['arr_delay'].fillna(df1['arr_delay'].mean(),inplace=True)\n",
      "C:\\Users\\moham\\AppData\\Local\\Temp\\ipykernel_28884\\2076358856.py:5: FutureWarning: A value is trying to be set on a copy of a DataFrame or Series through chained assignment using an inplace method.\n",
      "The behavior will change in pandas 3.0. This inplace method will never work because the intermediate object on which we are setting values always behaves as a copy.\n",
      "\n",
      "For example, when doing 'df[col].method(value, inplace=True)', try using 'df.method({col: value}, inplace=True)' or df[col] = df[col].method(value) instead, to perform the operation inplace on the original object.\n",
      "\n",
      "\n",
      "  df1['tailnum'].fillna(df1['tailnum'].mode()[0],inplace=True)\n",
      "C:\\Users\\moham\\AppData\\Local\\Temp\\ipykernel_28884\\2076358856.py:6: FutureWarning: A value is trying to be set on a copy of a DataFrame or Series through chained assignment using an inplace method.\n",
      "The behavior will change in pandas 3.0. This inplace method will never work because the intermediate object on which we are setting values always behaves as a copy.\n",
      "\n",
      "For example, when doing 'df[col].method(value, inplace=True)', try using 'df.method({col: value}, inplace=True)' or df[col] = df[col].method(value) instead, to perform the operation inplace on the original object.\n",
      "\n",
      "\n",
      "  df1['air_time'].fillna(df1['air_time'].mean(),inplace=True)\n"
     ]
    }
   ],
   "source": [
    "df1['dep_time'].fillna(df1['dep_time'].mean(),inplace=True)\n",
    "df1['dep_delay'].fillna(df1['dep_delay'].mean(),inplace=True)\n",
    "df1['arr_time'].fillna(df1['arr_time'].mean(),inplace=True)\n",
    "df1['arr_delay'].fillna(df1['arr_delay'].mean(),inplace=True)\n",
    "df1['tailnum'].fillna(df1['tailnum'].mode()[0],inplace=True)\n",
    "df1['air_time'].fillna(df1['air_time'].mean(),inplace=True)"
   ]
  },
  {
   "cell_type": "code",
   "execution_count": 91,
   "id": "a863b52d-2452-4771-b4eb-9f1515289c30",
   "metadata": {},
   "outputs": [
    {
     "data": {
      "text/plain": [
       "Unnamed: 0        0\n",
       "year              0\n",
       "month             0\n",
       "day               0\n",
       "dep_time          0\n",
       "sched_dep_time    0\n",
       "dep_delay         0\n",
       "arr_time          0\n",
       "sched_arr_time    0\n",
       "arr_delay         0\n",
       "carrier           0\n",
       "flight            0\n",
       "tailnum           0\n",
       "origin            0\n",
       "dest              0\n",
       "air_time          0\n",
       "distance          0\n",
       "hour              0\n",
       "minute            0\n",
       "time_hour         0\n",
       "dtype: int64"
      ]
     },
     "execution_count": 91,
     "metadata": {},
     "output_type": "execute_result"
    }
   ],
   "source": [
    "df1=df1.isnull().sum()\n",
    "df1"
   ]
  },
  {
   "cell_type": "markdown",
   "id": "530f4229-ddc8-447f-b5ae-d51c0cc1bc2e",
   "metadata": {},
   "source": [
    "## 2.Data transformation"
   ]
  },
  {
   "cell_type": "code",
   "execution_count": 93,
   "id": "2a72c421-1216-40d9-8194-f9f49463cf31",
   "metadata": {},
   "outputs": [
    {
     "name": "stdout",
     "output_type": "stream",
     "text": [
      "   systolic  diastolic  blood_pressure_sum\n",
      "0       120         80                 200\n",
      "1       130         85                 215\n",
      "2       125         82                 207\n"
     ]
    }
   ],
   "source": [
    "df = pd.DataFrame({\n",
    "    'systolic': [120, 130, 125],\n",
    "    'diastolic': [80, 85, 82]\n",
    "})\n",
    "\n",
    "df['blood_pressure_sum'] = np.add(df['systolic'].values, df['diastolic'].values)\n",
    "print(df)\n"
   ]
  },
  {
   "cell_type": "code",
   "execution_count": 95,
   "id": "2f3fa5f3-e684-4fbe-8c66-f9f8eee3dab7",
   "metadata": {},
   "outputs": [
    {
     "name": "stdout",
     "output_type": "stream",
     "text": [
      "   cholesterol_level  cholesterol_sqrt\n",
      "0                144              12.0\n",
      "1                169              13.0\n",
      "2                196              14.0\n",
      "3                121              11.0\n",
      "4                225              15.0\n"
     ]
    }
   ],
   "source": [
    "df = pd.DataFrame({\n",
    "    'cholesterol_level': [144, 169, 196, 121, 225]\n",
    "})\n",
    "df['cholesterol_sqrt'] = np.sqrt(df['cholesterol_level'].values)\n",
    "print(df)\n"
   ]
  },
  {
   "cell_type": "code",
   "execution_count": 101,
   "id": "0110a3d1-98a5-4862-bb36-c4cf2b8b1eb4",
   "metadata": {},
   "outputs": [
    {
     "data": {
      "text/html": [
       "<div>\n",
       "<style scoped>\n",
       "    .dataframe tbody tr th:only-of-type {\n",
       "        vertical-align: middle;\n",
       "    }\n",
       "\n",
       "    .dataframe tbody tr th {\n",
       "        vertical-align: top;\n",
       "    }\n",
       "\n",
       "    .dataframe thead th {\n",
       "        text-align: right;\n",
       "    }\n",
       "</style>\n",
       "<table border=\"1\" class=\"dataframe\">\n",
       "  <thead>\n",
       "    <tr style=\"text-align: right;\">\n",
       "      <th></th>\n",
       "      <th>glucose_level</th>\n",
       "      <th>glucose_normalized</th>\n",
       "    </tr>\n",
       "  </thead>\n",
       "  <tbody>\n",
       "    <tr>\n",
       "      <th>0</th>\n",
       "      <td>85</td>\n",
       "      <td>0.000000</td>\n",
       "    </tr>\n",
       "    <tr>\n",
       "      <th>1</th>\n",
       "      <td>120</td>\n",
       "      <td>0.636364</td>\n",
       "    </tr>\n",
       "    <tr>\n",
       "      <th>2</th>\n",
       "      <td>140</td>\n",
       "      <td>1.000000</td>\n",
       "    </tr>\n",
       "    <tr>\n",
       "      <th>3</th>\n",
       "      <td>99</td>\n",
       "      <td>0.254545</td>\n",
       "    </tr>\n",
       "    <tr>\n",
       "      <th>4</th>\n",
       "      <td>110</td>\n",
       "      <td>0.454545</td>\n",
       "    </tr>\n",
       "  </tbody>\n",
       "</table>\n",
       "</div>"
      ],
      "text/plain": [
       "   glucose_level  glucose_normalized\n",
       "0             85            0.000000\n",
       "1            120            0.636364\n",
       "2            140            1.000000\n",
       "3             99            0.254545\n",
       "4            110            0.454545"
      ]
     },
     "execution_count": 101,
     "metadata": {},
     "output_type": "execute_result"
    }
   ],
   "source": [
    "from sklearn.preprocessing import MinMaxScaler\n",
    "df = pd.DataFrame({\n",
    "    'glucose_level': [85, 120, 140, 99, 110]\n",
    "})\n",
    "scaler = MinMaxScaler()\n",
    "df['glucose_normalized'] = scaler.fit_transform(df[['glucose_level']])\n",
    "df"
   ]
  },
  {
   "cell_type": "markdown",
   "id": "85117dd1-0cf1-4ca8-9a8a-c09134a4c372",
   "metadata": {},
   "source": [
    "## 3.Merging And Joining Datasets"
   ]
  },
  {
   "cell_type": "code",
   "execution_count": 103,
   "id": "a4ba0ff5-9a0f-4ab7-864b-05db2b0bd6f1",
   "metadata": {},
   "outputs": [
    {
     "name": "stdout",
     "output_type": "stream",
     "text": [
      "   patient_id        age  cholesterol\n",
      "0         101  25.000000        195.0\n",
      "1         102  47.000000        180.0\n",
      "2         103  35.000000        195.0\n",
      "3         104  35.666667        210.0\n"
     ]
    }
   ],
   "source": [
    "df1 = pd.DataFrame({\n",
    "    'patient_id': [101, 102, 103],\n",
    "    'age': [25, 47, 35]\n",
    "})\n",
    "df2 = pd.DataFrame({\n",
    "    'patient_id': [102, 103, 104],\n",
    "    'cholesterol': [180, None, 210]\n",
    "})\n",
    "merged_df = pd.merge(df1, df2, on='patient_id', how='outer')\n",
    "merged_df_filled = merged_df.fillna({\n",
    "    'age': merged_df['age'].mean(),             \n",
    "    'cholesterol': merged_df['cholesterol'].mean()\n",
    "})\n",
    "print(merged_df_filled)"
   ]
  },
  {
   "cell_type": "code",
   "execution_count": 107,
   "id": "a4e725c8-8349-42b9-bf59-4a955302e15d",
   "metadata": {},
   "outputs": [
    {
     "data": {
      "text/html": [
       "<div>\n",
       "<style scoped>\n",
       "    .dataframe tbody tr th:only-of-type {\n",
       "        vertical-align: middle;\n",
       "    }\n",
       "\n",
       "    .dataframe tbody tr th {\n",
       "        vertical-align: top;\n",
       "    }\n",
       "\n",
       "    .dataframe thead th {\n",
       "        text-align: right;\n",
       "    }\n",
       "</style>\n",
       "<table border=\"1\" class=\"dataframe\">\n",
       "  <thead>\n",
       "    <tr style=\"text-align: right;\">\n",
       "      <th></th>\n",
       "      <th>patient_id</th>\n",
       "      <th>age</th>\n",
       "      <th>id</th>\n",
       "      <th>cholesterol</th>\n",
       "    </tr>\n",
       "  </thead>\n",
       "  <tbody>\n",
       "    <tr>\n",
       "      <th>0</th>\n",
       "      <td>101</td>\n",
       "      <td>25</td>\n",
       "      <td>NaN</td>\n",
       "      <td>NaN</td>\n",
       "    </tr>\n",
       "    <tr>\n",
       "      <th>1</th>\n",
       "      <td>102</td>\n",
       "      <td>47</td>\n",
       "      <td>102.0</td>\n",
       "      <td>180.0</td>\n",
       "    </tr>\n",
       "    <tr>\n",
       "      <th>2</th>\n",
       "      <td>103</td>\n",
       "      <td>35</td>\n",
       "      <td>103.0</td>\n",
       "      <td>NaN</td>\n",
       "    </tr>\n",
       "  </tbody>\n",
       "</table>\n",
       "</div>"
      ],
      "text/plain": [
       "   patient_id  age     id  cholesterol\n",
       "0         101   25    NaN          NaN\n",
       "1         102   47  102.0        180.0\n",
       "2         103   35  103.0          NaN"
      ]
     },
     "execution_count": 107,
     "metadata": {},
     "output_type": "execute_result"
    }
   ],
   "source": [
    "df_left = pd.DataFrame({\n",
    "    'patient_id': [101, 102, 103],\n",
    "    'age': [25, 47, 35]\n",
    "})\n",
    "df_right = pd.DataFrame({\n",
    "    'id': [102, 103, 104],\n",
    "    'cholesterol': [180, None, 210]\n",
    "})\n",
    "merged_df = pd.merge(df_left, df_right, how='left', left_on='patient_id', right_on='id')\n",
    "merged_df"
   ]
  },
  {
   "cell_type": "code",
   "execution_count": 109,
   "id": "e4b42cc9-3f08-4a15-bb4b-480984632346",
   "metadata": {},
   "outputs": [
    {
     "name": "stdout",
     "output_type": "stream",
     "text": [
      "   patient_id  age  patient_id_df2  cholesterol\n",
      "0         101   25             201          180\n",
      "1         102   47             202          190\n",
      "2         103   35             203          210\n"
     ]
    }
   ],
   "source": [
    "df1 = pd.DataFrame({\n",
    "    'patient_id': [101, 102, 103],\n",
    "    'age': [25, 47, 35]\n",
    "})\n",
    "df2 = pd.DataFrame({\n",
    "    'patient_id': [201, 202, 203],  \n",
    "    'cholesterol': [180, 190, 210]\n",
    "})\n",
    "df2_renamed = df2.rename(columns=lambda x: f\"{x}_df2\" if x in df1.columns else x)\n",
    "df_combined = pd.concat([df1, df2_renamed], axis=1)\n",
    "print(df_combined)\n"
   ]
  },
  {
   "cell_type": "markdown",
   "id": "d901d883-cb9a-47a8-90b8-a605ab507da5",
   "metadata": {},
   "source": [
    "## 4.Grouping And Aggregation"
   ]
  },
  {
   "cell_type": "code",
   "execution_count": 111,
   "id": "11f04679-3018-46de-b51f-7603284de49b",
   "metadata": {},
   "outputs": [
    {
     "name": "stdout",
     "output_type": "stream",
     "text": [
      "  treatment_group   mean       std\n",
      "0               A  122.5  3.535534\n",
      "1               B  129.0  1.414214\n",
      "2               C  116.5  2.121320\n"
     ]
    }
   ],
   "source": [
    "df = pd.DataFrame({\n",
    "    'treatment_group': ['A', 'A', 'B', 'B', 'C', 'C'],\n",
    "    'blood_pressure': [120, 125, 130, 128, 115, 118]\n",
    "})\n",
    "group_stats = df.groupby('treatment_group')['blood_pressure'].agg(['mean', 'std']).reset_index()\n",
    "print(group_stats)"
   ]
  },
  {
   "cell_type": "code",
   "execution_count": 113,
   "id": "8992a4b4-e0c5-49b5-bd91-d9c999ed5d6a",
   "metadata": {},
   "outputs": [
    {
     "name": "stdout",
     "output_type": "stream",
     "text": [
      "  treatment_group  sqrt_sum_glucose\n",
      "0               A         14.142136\n",
      "1               B         15.811388\n",
      "2               C         14.317821\n"
     ]
    }
   ],
   "source": [
    "df = pd.DataFrame({\n",
    "    'treatment_group': ['A', 'A', 'B', 'B', 'C', 'C'],\n",
    "    'glucose_level': [90, 110, 130, 120, 100, 105]\n",
    "})\n",
    "grouped_sum = df.groupby('treatment_group')['glucose_level'].sum()\n",
    "transformed = np.sqrt(grouped_sum)\n",
    "result_df = transformed.reset_index(name='sqrt_sum_glucose')\n",
    "print(result_df)"
   ]
  },
  {
   "cell_type": "code",
   "execution_count": 115,
   "id": "2bb5c6d1-a0b8-44df-a9b1-11895fbb257e",
   "metadata": {},
   "outputs": [
    {
     "name": "stdout",
     "output_type": "stream",
     "text": [
      "treatment     X     Y\n",
      "hospital             \n",
      "A          10.0  12.0\n",
      "B           8.0  15.0\n",
      "C           9.0  11.0\n"
     ]
    },
    {
     "name": "stderr",
     "output_type": "stream",
     "text": [
      "C:\\Users\\moham\\AppData\\Local\\Temp\\ipykernel_28884\\552050264.py:6: FutureWarning: The provided callable <function mean at 0x000002BB639F5440> is currently using DataFrameGroupBy.mean. In a future version of pandas, the provided callable will be used directly. To keep current behavior pass the string \"mean\" instead.\n",
      "  pivot_table = pd.pivot_table(\n"
     ]
    }
   ],
   "source": [
    "df = pd.DataFrame({\n",
    "    'hospital': ['A', 'A', 'B', 'B', 'C', 'C'],\n",
    "    'treatment': ['X', 'Y', 'X', 'Y', 'X', 'Y'],\n",
    "    'recovery_days': [10, 12, 8, 15, 9, 11]\n",
    "})\n",
    "pivot_table = pd.pivot_table(\n",
    "    df,\n",
    "    values='recovery_days',\n",
    "    index='hospital',\n",
    "    columns='treatment',\n",
    "    aggfunc=np.mean  \n",
    ")\n",
    "print(pivot_table)\n"
   ]
  },
  {
   "cell_type": "markdown",
   "id": "87222d22-0ee4-469a-a7c1-460e99530c3c",
   "metadata": {},
   "source": [
    "## 5.Array Operations and Manipulation "
   ]
  },
  {
   "cell_type": "code",
   "execution_count": 117,
   "id": "d2197d20-d177-4e47-93e6-89ac62c63c0d",
   "metadata": {},
   "outputs": [
    {
     "name": "stdout",
     "output_type": "stream",
     "text": [
      "   heart_rate  adjusted_heart_rate\n",
      "0          72                 79.2\n",
      "1          85                 93.5\n",
      "2          90                 99.0\n",
      "3          65                 71.5\n",
      "4          78                 85.8\n"
     ]
    }
   ],
   "source": [
    "df = pd.DataFrame({\n",
    "    'heart_rate': [72, 85, 90, 65, 78]\n",
    "})\n",
    "heart_rate_array = df['heart_rate'].values\n",
    "adjusted_array = heart_rate_array * 1.10\n",
    "df['adjusted_heart_rate'] = adjusted_array\n",
    "print(df)\n"
   ]
  },
  {
   "cell_type": "code",
   "execution_count": 119,
   "id": "4abc981b-f37e-420f-98ce-6a752afb347b",
   "metadata": {},
   "outputs": [
    {
     "name": "stdout",
     "output_type": "stream",
     "text": [
      "   glucose_level  glucose_reshaped\n",
      "0             90                90\n",
      "1            110               110\n",
      "2            130               130\n",
      "3            120               120\n",
      "4            100               100\n"
     ]
    }
   ],
   "source": [
    "df = pd.DataFrame({\n",
    "    'glucose_level': [90, 110, 130, 120, 100]\n",
    "})\n",
    "glucose_array = df['glucose_level'].values\n",
    "reshaped_array = glucose_array.reshape(-1, 1)\n",
    "df['glucose_reshaped'] = reshaped_array.flatten()\n",
    "print(df)"
   ]
  },
  {
   "cell_type": "code",
   "execution_count": 121,
   "id": "851f57d1-be50-495e-9cf2-5077156ce68b",
   "metadata": {},
   "outputs": [
    {
     "name": "stdout",
     "output_type": "stream",
     "text": [
      "   patient_id  oxygen_saturation\n",
      "0         101                 95\n",
      "2         103                 92\n",
      "3         104                 97\n"
     ]
    }
   ],
   "source": [
    "df = pd.DataFrame({\n",
    "    'patient_id': [101, 102, 103, 104, 105],\n",
    "    'oxygen_saturation': [95, 88, 92, 97, 85]\n",
    "})\n",
    "oxygen_array = df['oxygen_saturation'].values\n",
    "threshold = 90\n",
    "mask = oxygen_array > threshold\n",
    "filtered_df = df[mask]\n",
    "print(filtered_df)"
   ]
  },
  {
   "cell_type": "markdown",
   "id": "714c748e-b2dd-432b-899e-9a8641371268",
   "metadata": {},
   "source": [
    "## 6.Broadcasting and Vectorized Operations "
   ]
  },
  {
   "cell_type": "code",
   "execution_count": 123,
   "id": "421acfb6-4b1a-4dde-b811-286cdcc16ab9",
   "metadata": {},
   "outputs": [
    {
     "name": "stdout",
     "output_type": "stream",
     "text": [
      "   glucose_level  adjusted_glucose\n",
      "0             90              94.5\n",
      "1            110             104.5\n",
      "2            130             143.0\n",
      "3            120             120.0\n",
      "4            100              90.0\n"
     ]
    }
   ],
   "source": [
    "df = pd.DataFrame({\n",
    "    'glucose_level': [90, 110, 130, 120, 100]\n",
    "})\n",
    "correction = np.array([1.05, 0.95, 1.10, 1.00, 0.90])\n",
    "df['adjusted_glucose'] = df['glucose_level'].values * correction\n",
    "print(df)"
   ]
  },
  {
   "cell_type": "code",
   "execution_count": 125,
   "id": "d2b43c7b-b696-4520-8b1b-568aa8150202",
   "metadata": {},
   "outputs": [
    {
     "name": "stdout",
     "output_type": "stream",
     "text": [
      "   systolic  diastolic  pulse_pressure\n",
      "0       120         80              40\n",
      "1       130         85              45\n",
      "2       125         82              43\n"
     ]
    }
   ],
   "source": [
    "df = pd.DataFrame({\n",
    "    'systolic': [120, 130, 125],\n",
    "    'diastolic': [80, 85, 82]\n",
    "})\n",
    "systolic = df['systolic'].values\n",
    "diastolic = df['diastolic'].values\n",
    "df['pulse_pressure'] = np.subtract(systolic, diastolic)\n",
    "print(df)"
   ]
  },
  {
   "cell_type": "code",
   "execution_count": 127,
   "id": "00ffd36d-f0ee-4a61-916d-d9f72fec16b6",
   "metadata": {},
   "outputs": [
    {
     "name": "stdout",
     "output_type": "stream",
     "text": [
      "     glucose  cholesterol  triglycerides\n",
      "0 -50.000000    40.000000      10.000000\n",
      "1 -43.333333    36.666667       6.666667\n",
      "2 -40.000000    40.000000       0.000000\n"
     ]
    }
   ],
   "source": [
    "df = pd.DataFrame({\n",
    "    'glucose': [90, 110, 130],\n",
    "    'cholesterol': [180, 190, 210],\n",
    "    'triglycerides': [150, 160, 170]\n",
    "})\n",
    "data = df.values\n",
    "row_means = data.mean(axis=1).reshape(-1, 1)\n",
    "normalized = data - row_means\n",
    "df_normalized = pd.DataFrame(normalized, columns=df.columns)\n",
    "print(df_normalized)"
   ]
  },
  {
   "cell_type": "markdown",
   "id": "f2b08d7c-948a-4d4a-97a8-b2123be828dc",
   "metadata": {},
   "source": [
    "## 7.Linear Algebra with NumPy "
   ]
  },
  {
   "cell_type": "code",
   "execution_count": 129,
   "id": "5aeaeec2-da94-4bf5-b73c-9f4fa4f6cd67",
   "metadata": {},
   "outputs": [
    {
     "name": "stdout",
     "output_type": "stream",
     "text": [
      "     x    y\n",
      "0  2.2  1.2\n"
     ]
    }
   ],
   "source": [
    "A = np.array([[2, 3],\n",
    "              [4, 1]])\n",
    "b = np.array([8, 10])\n",
    "solution = np.linalg.solve(A, b)\n",
    "df_solution = pd.DataFrame([solution], columns=['x', 'y'])\n",
    "print(df_solution)"
   ]
  },
  {
   "cell_type": "code",
   "execution_count": 131,
   "id": "542dc302-dd38-4043-83a0-a91113772087",
   "metadata": {},
   "outputs": [
    {
     "name": "stdout",
     "output_type": "stream",
     "text": [
      "   dot_product\n",
      "0         35.0\n"
     ]
    }
   ],
   "source": [
    "df = pd.DataFrame({\n",
    "    'insulin_dose': [10, 15, 20],\n",
    "    'glucose_response': [0.8, 0.6, 0.9]\n",
    "})\n",
    "dose = df['insulin_dose'].values\n",
    "response = df['glucose_response'].values\n",
    "dot_product = np.dot(dose, response)\n",
    "df_result = pd.DataFrame({'dot_product': [dot_product]})\n",
    "print(df_result)"
   ]
  },
  {
   "cell_type": "code",
   "execution_count": 133,
   "id": "9a300fd6-a4b5-47c5-b991-b7fb7ecef312",
   "metadata": {},
   "outputs": [
    {
     "name": "stdout",
     "output_type": "stream",
     "text": [
      "    0   1\n",
      "0  19  22\n",
      "1  43  50\n"
     ]
    }
   ],
   "source": [
    "df1 = pd.DataFrame([[1, 2], [3, 4]])\n",
    "df2 = pd.DataFrame([[5, 6], [7, 8]])\n",
    "result_df = df1 @ df2\n",
    "print(result_df)\n"
   ]
  },
  {
   "cell_type": "markdown",
   "id": "e11be581-d2cb-4f20-b43d-9b451467d15d",
   "metadata": {},
   "source": [
    "## 8.Handling Missing Data"
   ]
  },
  {
   "cell_type": "code",
   "execution_count": 135,
   "id": "d7dbb1e5-4e3d-4b02-8c53-cd176547d3e8",
   "metadata": {},
   "outputs": [
    {
     "name": "stdout",
     "output_type": "stream",
     "text": [
      "   Time  Signal\n",
      "0     0     0.0\n",
      "1     1     1.0\n",
      "2     2     2.0\n",
      "3     3     3.0\n",
      "4     4     4.0\n"
     ]
    }
   ],
   "source": [
    "df = pd.DataFrame({\n",
    "    'Time': [0, 1, 2, 3, 4],\n",
    "    'Signal': [0.0, np.nan, np.nan, 3.0, 4.0]\n",
    "})\n",
    "df_interpolated = df.interpolate(method='linear')\n",
    "print(df_interpolated)"
   ]
  },
  {
   "cell_type": "code",
   "execution_count": 137,
   "id": "49e2d63e-3d99-4c0e-a25e-a85fc4b134fc",
   "metadata": {},
   "outputs": [
    {
     "name": "stdout",
     "output_type": "stream",
     "text": [
      "     A    B\n",
      "0  1.0  4.0\n",
      "1 -1.0  5.0\n",
      "2  3.0 -1.0\n"
     ]
    }
   ],
   "source": [
    "df = pd.DataFrame({\n",
    "    'A': [1, np.nan, 3],\n",
    "    'B': [4, 5, np.nan]\n",
    "})\n",
    "mask = np.isnan(df.values)\n",
    "df.values[mask] = -1\n",
    "print(df)"
   ]
  },
  {
   "cell_type": "code",
   "execution_count": 139,
   "id": "b7c86ab4-0f49-4b20-b348-98c6116f9fa4",
   "metadata": {},
   "outputs": [
    {
     "name": "stdout",
     "output_type": "stream",
     "text": [
      "   biomarker\n",
      "0       10.0\n",
      "1       12.0\n",
      "2       11.0\n",
      "3       11.5\n",
      "4       13.0\n",
      "5        9.0\n",
      "6       11.5\n",
      "7       14.0\n"
     ]
    },
    {
     "name": "stderr",
     "output_type": "stream",
     "text": [
      "C:\\Users\\moham\\AppData\\Local\\Temp\\ipykernel_28884\\1352837666.py:9: FutureWarning: Setting an item of incompatible dtype is deprecated and will raise an error in a future version of pandas. Value '11.5' has dtype incompatible with int64, please explicitly cast to a compatible dtype first.\n",
      "  df.loc[outlier_mask, 'biomarker'] = median_value\n"
     ]
    }
   ],
   "source": [
    "df = pd.DataFrame({'biomarker': [10, 12, 11, 300, 13, 9, 305, 14]})\n",
    "q1 = np.percentile(df['biomarker'], 25)\n",
    "q3 = np.percentile(df['biomarker'], 75)\n",
    "iqr = q3 - q1\n",
    "lower_bound = q1 - 1.5 * iqr\n",
    "upper_bound = q3 + 1.5 * iqr\n",
    "outlier_mask = (df['biomarker'] < lower_bound) | (df['biomarker'] > upper_bound)\n",
    "median_value = np.median(df['biomarker'][~outlier_mask])\n",
    "df.loc[outlier_mask, 'biomarker'] = median_value\n",
    "print(df)"
   ]
  },
  {
   "cell_type": "markdown",
   "id": "4bcc8ea1-de3e-4018-9f57-2abc63513a43",
   "metadata": {},
   "source": [
    "## 9.Advanced Data Analysis "
   ]
  },
  {
   "cell_type": "code",
   "execution_count": 141,
   "id": "f34f2b46-4576-4948-bcea-a42aabed7751",
   "metadata": {},
   "outputs": [
    {
     "name": "stdout",
     "output_type": "stream",
     "text": [
      "  Hospital Treatment  Mean_Response  Std_Response\n",
      "0        A         X           86.5      2.121320\n",
      "1        A         Y           92.0           NaN\n",
      "2        B         X           87.0           NaN\n",
      "3        B         Y           92.5      3.535534\n",
      "4        C         X           91.0           NaN\n",
      "5        C         Y           89.0           NaN\n"
     ]
    }
   ],
   "source": [
    "df = pd.DataFrame({\n",
    "    'Hospital': ['A', 'A', 'A', 'B', 'B', 'B', 'C', 'C'],\n",
    "    'Treatment': ['X', 'Y', 'X', 'Y', 'X', 'Y', 'X', 'Y'],\n",
    "    'Response': [88, 92, 85, 90, 87, 95, 91, 89]\n",
    "})\n",
    "grouped = df.groupby(['Hospital', 'Treatment'])\n",
    "trend_df = grouped['Response'].agg([\n",
    "    ('Mean_Response', lambda x: np.mean(x)),\n",
    "    ('Std_Response', lambda x: np.std(x, ddof=1))\n",
    "]).reset_index()\n",
    "print(trend_df)"
   ]
  },
  {
   "cell_type": "code",
   "execution_count": 143,
   "id": "5da7c8ad-81d7-4352-828f-80a6c067cb32",
   "metadata": {},
   "outputs": [
    {
     "name": "stdout",
     "output_type": "stream",
     "text": [
      "          Glucose   Insulin       BMI\n",
      "Glucose  1.000000  0.998999  0.999342\n",
      "Insulin  0.998999  1.000000  0.999283\n",
      "BMI      0.999342  0.999283  1.000000\n"
     ]
    }
   ],
   "source": [
    "df = pd.DataFrame({\n",
    "    'Glucose': [85, 90, 88, 150, 95],\n",
    "    'Insulin': [12, 14, 13, 40, 15],\n",
    "    'BMI': [22.5, 23.0, 22.8, 35.0, 24.0]\n",
    "})\n",
    "numeric_data = df.select_dtypes(include=[np.number]).values\n",
    "cor_matrix_np = np.corrcoef(numeric_data, rowvar=False)\n",
    "summary_df = pd.DataFrame(cor_matrix_np, \n",
    "                          index=df.select_dtypes(include=[np.number]).columns,\n",
    "                          columns=df.select_dtypes(include=[np.number]).columns)\n",
    "print(summary_df)"
   ]
  },
  {
   "cell_type": "code",
   "execution_count": 145,
   "id": "e36bd543-9e58-4380-96eb-38fb1578063c",
   "metadata": {},
   "outputs": [
    {
     "data": {
      "image/png": "[encoded data removed]",
      "text/plain": [
       "<Figure size 1000x500 with 1 Axes>"
      ]
     },
     "metadata": {},
     "output_type": "display_data"
    }
   ],
   "source": [
    "import matplotlib.pyplot as plt\n",
    "dates = pd.date_range(start='2025-01-01', periods=30, freq='D')\n",
    "values = np.random.normal(loc=100, scale=10, size=30)  # Simulated signal\n",
    "df = pd.DataFrame({'Date': dates, 'Signal': values})\n",
    "df.set_index('Date', inplace=True)\n",
    "df['RollingMean'] = df['Signal'].rolling(window=5).mean()\n",
    "plt.figure(figsize=(10, 5))\n",
    "plt.plot(df.index, df['Signal'], label='Original Signal', color='lightblue')\n",
    "plt.plot(df.index, df['RollingMean'], label='5-Day Rolling Mean', color='darkblue')\n",
    "plt.title('Rolling Mean of Time Series Signal')\n",
    "plt.xlabel('Date')\n",
    "plt.ylabel('Signal Value')\n",
    "plt.legend()\n",
    "plt.grid(True)\n",
    "plt.tight_layout()\n",
    "plt.show()"
   ]
  },
  {
   "cell_type": "markdown",
   "id": "304ac013-de66-4fff-9013-ab1ff445cb07",
   "metadata": {},
   "source": [
    "##  10.DataFrame and Array Manipulation "
   ]
  },
  {
   "cell_type": "code",
   "execution_count": 147,
   "id": "46835ceb-402d-47ea-99ef-4d980be64299",
   "metadata": {},
   "outputs": [
    {
     "name": "stdout",
     "output_type": "stream",
     "text": [
      "   Glucose  Insulin\n",
      "0      170       24\n",
      "1      180       28\n",
      "2      176       26\n"
     ]
    }
   ],
   "source": [
    "df = pd.DataFrame({\n",
    "    'Glucose': [85, 90, 88],\n",
    "    'Insulin': [12, 14, 13]\n",
    "})\n",
    "array = df.values\n",
    "scaled_array = array * 2\n",
    "df_scaled = pd.DataFrame(scaled_array, columns=df.columns)\n",
    "print(df_scaled)"
   ]
  },
  {
   "cell_type": "code",
   "execution_count": 149,
   "id": "0f914ead-4c45-4f33-8b71-e084cdc16e76",
   "metadata": {},
   "outputs": [
    {
     "name": "stdout",
     "output_type": "stream",
     "text": [
      "    Glucose   Insulin       BMI\n",
      "0  0.496714 -0.138264  0.647689\n",
      "1  1.523030 -0.234153 -0.234137\n",
      "2  1.579213  0.767435 -0.469474\n",
      "3  0.542560 -0.463418 -0.465730\n",
      "4  0.241962 -1.913280 -1.724918\n",
      "9  0.375698 -0.600639 -0.291694\n"
     ]
    }
   ],
   "source": [
    "np.random.seed(42)\n",
    "df = pd.DataFrame(\n",
    "    np.random.randn(10, 3), \n",
    "    columns=['Glucose', 'Insulin', 'BMI']\n",
    ")\n",
    "mask = (df['Glucose'].values > 0) & (df['BMI'].values < 1)\n",
    "filtered_df = df[mask]\n",
    "print(filtered_df)\n"
   ]
  },
  {
   "cell_type": "code",
   "execution_count": 151,
   "id": "bb5ff16e-4c7c-4dcf-ad94-4be01d17a37d",
   "metadata": {},
   "outputs": [
    {
     "name": "stdout",
     "output_type": "stream",
     "text": [
      "   Feature1  Feature2\n",
      "0  1.666667  3.000000\n",
      "1  4.200000  5.333333\n"
     ]
    }
   ],
   "source": [
    "a = np.array([[1, 2], [3, 4]])\n",
    "b = np.array([[5, 6], [7, 8]])\n",
    "def harmonic_mean(x, y):\n",
    "    return 2 * x * y / (x + y)\n",
    "result_array = harmonic_mean(a, b)\n",
    "result_df = pd.DataFrame(result_array, columns=['Feature1', 'Feature2'])\n",
    "print(result_df)"
   ]
  },
  {
   "cell_type": "markdown",
   "id": "cbd46c85-a5db-4fd5-b84e-08ebfaaded61",
   "metadata": {},
   "source": [
    "##  11.Data Reshaping and Analysis   "
   ]
  },
  {
   "cell_type": "code",
   "execution_count": 153,
   "id": "b9efa065-eb46-4258-a213-ae2b26a98ec3",
   "metadata": {},
   "outputs": [
    {
     "name": "stdout",
     "output_type": "stream",
     "text": [
      "Reshaped DataFrame:\n",
      "   T1  T2  T3  T4\n",
      "0   1   2   3   4\n",
      "1   5   6   7   8\n",
      "2   9  10  11  12\n",
      "\n",
      "Row-wise Means: [ 2.5  6.5 10.5]\n",
      "Column-wise Means: [5. 6. 7. 8.]\n"
     ]
    }
   ],
   "source": [
    "df = pd.DataFrame({\n",
    "    'Signal': np.arange(1, 13)\n",
    "})\n",
    "array = df['Signal'].values.reshape(3, 4)\n",
    "row_means = np.mean(array, axis=1)\n",
    "col_means = np.mean(array, axis=0)\n",
    "reshaped_df = pd.DataFrame(array, columns=['T1', 'T2', 'T3', 'T4'])\n",
    "print(\"Reshaped DataFrame:\")\n",
    "print(reshaped_df)\n",
    "print(\"\\nRow-wise Means:\", row_means)\n",
    "print(\"Column-wise Means:\", col_means)"
   ]
  },
  {
   "cell_type": "code",
   "execution_count": 155,
   "id": "b2496e6a-db54-45c9-8f72-5c69f93bbf6d",
   "metadata": {},
   "outputs": [
    {
     "name": "stdout",
     "output_type": "stream",
     "text": [
      "Combined DataFrame:\n",
      "   Glucose  Insulin\n",
      "0       85       12\n",
      "1       90       14\n",
      "2       88       13\n",
      "3       95       15\n",
      "4      100       16\n",
      "5       92       14\n",
      "\n",
      "Column-wise Mean: [91.66666667 14.        ]\n",
      "Column-wise Std Dev: [5.31664054 1.41421356]\n"
     ]
    }
   ],
   "source": [
    "df1 = pd.DataFrame({\n",
    "    'Glucose': [85, 90, 88],\n",
    "    'Insulin': [12, 14, 13]\n",
    "})\n",
    "\n",
    "df2 = pd.DataFrame({\n",
    "    'Glucose': [95, 100, 92],\n",
    "    'Insulin': [15, 16, 14]\n",
    "})\n",
    "combined_df = pd.concat([df1, df2], ignore_index=True)\n",
    "combined_array = combined_df.values\n",
    "col_mean = np.mean(combined_array, axis=0)\n",
    "col_std = np.std(combined_array, axis=0, ddof=1)\n",
    "print(\"Combined DataFrame:\")\n",
    "print(combined_df)\n",
    "print(\"\\nColumn-wise Mean:\", col_mean)\n",
    "print(\"Column-wise Std Dev:\", col_std)\n"
   ]
  },
  {
   "cell_type": "code",
   "execution_count": 157,
   "id": "a341b83a-b3e1-4e9b-9b10-01382740d622",
   "metadata": {},
   "outputs": [
    {
     "name": "stdout",
     "output_type": "stream",
     "text": [
      "Original MultiIndex DataFrame:\n",
      "                Feature1  Feature2  Feature3  Feature4\n",
      "Subject  Time                                        \n",
      "Subject1 T1    0.684233  0.440152  0.122038  0.495177\n",
      "         T2    0.034389  0.909320  0.258780  0.662522\n",
      "         T3    0.311711  0.520068  0.546710  0.184854\n",
      "Subject2 T1    0.969585  0.775133  0.939499  0.894827\n",
      "         T2    0.597900  0.921874  0.088493  0.195983\n",
      "         T3    0.045227  0.325330  0.388677  0.271349\n",
      "\n",
      "Grouped Mean by Time:\n",
      "       Feature1  Feature2  Feature3  Feature4\n",
      "Time                                        \n",
      "T1    0.826909  0.607643  0.530769  0.695002\n",
      "T2    0.316144  0.915597  0.173636  0.429253\n",
      "T3    0.178469  0.422699  0.467694  0.228102\n"
     ]
    }
   ],
   "source": [
    "data = np.random.rand(2, 3, 4)\n",
    "reshaped = data.reshape(-1, data.shape[2])\n",
    "subjects = np.repeat(['Subject1', 'Subject2'], data.shape[1])\n",
    "timepoints = np.tile(['T1', 'T2', 'T3'], data.shape[0])\n",
    "index = pd.MultiIndex.from_arrays([subjects, timepoints], names=['Subject', 'Time'])\n",
    "df = pd.DataFrame(reshaped, index=index, columns=[f'Feature{i+1}' for i in range(data.shape[2])])\n",
    "grouped_mean = df.groupby('Time').mean()\n",
    "print(\"Original MultiIndex DataFrame:\\n\", df)\n",
    "print(\"\\nGrouped Mean by Time:\\n\", grouped_mean)\n"
   ]
  },
  {
   "cell_type": "markdown",
   "id": "a6f64d69-6058-467f-919a-6ad9bc52fb9f",
   "metadata": {},
   "source": [
    "## 12.Time Series Analysis "
   ]
  },
  {
   "cell_type": "code",
   "execution_count": 159,
   "id": "a8bba3b0-81e4-4f01-8e80-3bb605339180",
   "metadata": {},
   "outputs": [
    {
     "name": "stdout",
     "output_type": "stream",
     "text": [
      "            HeartRate  HR_zscore\n",
      "Timestamp                       \n",
      "2025-01-01         72  -1.486301\n",
      "2025-01-02         75  -0.495434\n",
      "2025-01-03         78   0.495434\n",
      "2025-01-04         80   1.156012\n",
      "2025-01-05         77   0.165145\n",
      "2025-01-06         76  -0.165145\n",
      "2025-01-07         74  -0.825723\n",
      "2025-01-08         73  -1.156012\n",
      "2025-01-09         79   0.825723\n",
      "2025-01-10         81   1.486301\n"
     ]
    }
   ],
   "source": [
    "df = pd.DataFrame({\n",
    "    'Timestamp': pd.date_range(start='2025-01-01', periods=10, freq='D'),\n",
    "    'HeartRate': [72, 75, 78, 80, 77, 76, 74, 73, 79, 81]\n",
    "})\n",
    "df.set_index('Timestamp', inplace=True)\n",
    "mean_hr = np.mean(df['HeartRate'].values)\n",
    "std_hr = np.std(df['HeartRate'].values, ddof=1)\n",
    "df['HR_zscore'] = (df['HeartRate'].values - mean_hr) / std_hr\n",
    "print(df)"
   ]
  },
  {
   "cell_type": "code",
   "execution_count": 161,
   "id": "2a9b72c3-688d-4924-b7bd-191ba418002d",
   "metadata": {},
   "outputs": [
    {
     "name": "stdout",
     "output_type": "stream",
     "text": [
      "            Glucose  MovingAvg\n",
      "Date                          \n",
      "2025-01-01       85        NaN\n",
      "2025-01-02       88        NaN\n",
      "2025-01-03       90  87.666667\n",
      "2025-01-04       92  90.000000\n",
      "2025-01-05       95  92.333333\n",
      "2025-01-06       93  93.333333\n",
      "2025-01-07       91  93.000000\n",
      "2025-01-08       89  91.000000\n",
      "2025-01-09       87  89.000000\n",
      "2025-01-10       86  87.333333\n"
     ]
    }
   ],
   "source": [
    "df = pd.DataFrame({\n",
    "    'Date': pd.date_range(start='2025-01-01', periods=10, freq='D'),\n",
    "    'Glucose': [85, 88, 90, 92, 95, 93, 91, 89, 87, 86]\n",
    "})\n",
    "df.set_index('Date', inplace=True)\n",
    "window_size = 3\n",
    "glucose_array = df['Glucose'].values\n",
    "moving_avg = np.convolve(glucose_array, np.ones(window_size)/window_size, mode='valid')\n",
    "padded_avg = np.concatenate([np.full(window_size - 1, np.nan), moving_avg])\n",
    "df['MovingAvg'] = padded_avg\n",
    "print(df)"
   ]
  },
  {
   "cell_type": "code",
   "execution_count": 163,
   "id": "4b729f59-938f-4f14-8b31-f663c95d72fe",
   "metadata": {},
   "outputs": [
    {
     "name": "stdout",
     "output_type": "stream",
     "text": [
      "            EventTime  DeltaMinutes\n",
      "0 2025-01-01 08:00:00           NaN\n",
      "1 2025-01-01 08:15:00          15.0\n",
      "2 2025-01-01 08:45:00          30.0\n",
      "3 2025-01-01 09:30:00          45.0\n"
     ]
    }
   ],
   "source": [
    "df = pd.DataFrame({\n",
    "    'EventTime': ['2025-01-01 08:00:00', '2025-01-01 08:15:00', '2025-01-01 08:45:00', '2025-01-01 09:30:00']\n",
    "})\n",
    "df['EventTime'] = pd.to_datetime(df['EventTime'])\n",
    "time_deltas = np.diff(df['EventTime'].values)\n",
    "delta_minutes = time_deltas / np.timedelta64(1, 'm')\n",
    "df['DeltaMinutes'] = np.insert(delta_minutes, 0, np.nan)\n",
    "print(df)"
   ]
  },
  {
   "cell_type": "markdown",
   "id": "1a9ff541-7979-4965-8599-d14a1c3da597",
   "metadata": {},
   "source": [
    "##  Numpy"
   ]
  },
  {
   "cell_type": "code",
   "execution_count": 166,
   "id": "032e710c-5d39-4254-8cf2-4de2325f7227",
   "metadata": {},
   "outputs": [
    {
     "name": "stdout",
     "output_type": "stream",
     "text": [
      "Original Data: [51 92 14 71 60 20 82 86 74 74]\n",
      "Normalized Data: [0.47435897 1.         0.         0.73076923 0.58974359 0.07692308\n",
      " 0.87179487 0.92307692 0.76923077 0.76923077]\n"
     ]
    }
   ],
   "source": [
    "#1\n",
    "np.random.seed(42)  # for reproducibility\n",
    "data = np.random.randint(0, 100, size=10)\n",
    "min_val = np.min(data)\n",
    "max_val = np.max(data)\n",
    "normalized = (data - min_val) / (max_val - min_val)\n",
    "print(\"Original Data:\", data)\n",
    "print(\"Normalized Data:\", normalized)\n"
   ]
  },
  {
   "cell_type": "code",
   "execution_count": 168,
   "id": "e6fba09d-0584-42f6-8828-ec2439e899bd",
   "metadata": {},
   "outputs": [
    {
     "name": "stdout",
     "output_type": "stream",
     "text": [
      "Modified Matrix:\n",
      " [[ 6  3 -1  4  6]\n",
      " [ 9  2  6 -1  4]\n",
      " [ 3 -1 -1  2  5]\n",
      " [ 4  1 -1  5  1]\n",
      " [ 4  0  9  5  8]]\n"
     ]
    }
   ],
   "source": [
    "#2\n",
    "np.random.seed(42)\n",
    "matrix = np.random.randint(0, 10, size=(5, 5))\n",
    "target_value = 7\n",
    "replacement_value = -1\n",
    "matrix[matrix == target_value] = replacement_value\n",
    "print(\"Modified Matrix:\\n\", matrix)\n"
   ]
  },
  {
   "cell_type": "code",
   "execution_count": 170,
   "id": "c59ff712-95f2-4026-adaa-80d2deb46ef8",
   "metadata": {},
   "outputs": [
    {
     "name": "stdout",
     "output_type": "stream",
     "text": [
      "Addition:       [12 24 36 48 60]\n",
      "Subtraction:    [ 8 16 24 32 40]\n",
      "Multiplication: [ 20  80 180 320 500]\n",
      "Division:       [5. 5. 5. 5. 5.]\n"
     ]
    }
   ],
   "source": [
    "#3\n",
    "a = np.array([10, 20, 30, 40, 50])\n",
    "b = np.array([2, 4, 6, 8, 10])\n",
    "addition = a + b\n",
    "subtraction = a - b\n",
    "multiplication = a * b\n",
    "division = a / b\n",
    "print(\"Addition:      \", addition)\n",
    "print(\"Subtraction:   \", subtraction)\n",
    "print(\"Multiplication:\", multiplication)\n",
    "print(\"Division:      \", division)\n"
   ]
  },
  {
   "cell_type": "code",
   "execution_count": 172,
   "id": "0d226c38-7abe-49b3-84c9-4d8bbbbe8696",
   "metadata": {},
   "outputs": [
    {
     "name": "stdout",
     "output_type": "stream",
     "text": [
      "x = 1.29, y = 0.79\n"
     ]
    }
   ],
   "source": [
    "#4\n",
    "A = np.array([[3, 4],\n",
    "              [5, 2]])\n",
    "b = np.array([7, 8])\n",
    "solution = np.linalg.solve(A, b)\n",
    "x, y = solution\n",
    "print(f\"x = {x:.2f}, y = {y:.2f}\")\n"
   ]
  },
  {
   "cell_type": "code",
   "execution_count": 174,
   "id": "58d31abd-9cd1-413e-88fc-fa6223e71b96",
   "metadata": {},
   "outputs": [
    {
     "name": "stdout",
     "output_type": "stream",
     "text": [
      "Original Matrix:\n",
      " [[1 2 3]\n",
      " [4 5 6]\n",
      " [7 8 9]]\n",
      "1D Array:\n",
      " [10 20 30]\n",
      "Broadcasted Addition Result:\n",
      " [[11 22 33]\n",
      " [14 25 36]\n",
      " [17 28 39]]\n"
     ]
    }
   ],
   "source": [
    "#5\n",
    "matrix = np.array([[1, 2, 3],\n",
    "                   [4, 5, 6],\n",
    "                   [7, 8, 9]])\n",
    "array = np.array([10, 20, 30])\n",
    "result = matrix + array\n",
    "# Display results\n",
    "print(\"Original Matrix:\\n\", matrix)\n",
    "print(\"1D Array:\\n\", array)\n",
    "print(\"Broadcasted Addition Result:\\n\", result)\n"
   ]
  },
  {
   "cell_type": "code",
   "execution_count": 176,
   "id": "3eccd505-73dd-4f77-80ca-e1aeb334a1f2",
   "metadata": {},
   "outputs": [
    {
     "name": "stdout",
     "output_type": "stream",
     "text": [
      "[[1. 0. 0.]\n",
      " [0. 1. 0.]\n",
      " [0. 0. 1.]]\n"
     ]
    }
   ],
   "source": [
    "#6\n",
    "identity_matrix = np.eye(3)\n",
    "print(identity_matrix)"
   ]
  },
  {
   "cell_type": "code",
   "execution_count": 178,
   "id": "46ffd9bb-40bb-4bf5-b1a4-0001b1cda10e",
   "metadata": {},
   "outputs": [
    {
     "name": "stdout",
     "output_type": "stream",
     "text": [
      "Result of A × B:\n",
      " [[ 27  30  33]\n",
      " [ 61  68  75]\n",
      " [ 95 106 117]]\n"
     ]
    }
   ],
   "source": [
    "#7\n",
    "A = np.array([[1, 2],\n",
    "              [3, 4],\n",
    "              [5, 6]])  # shape: (3, 2)\n",
    "\n",
    "B = np.array([[7, 8, 9],\n",
    "              [10, 11, 12]])\n",
    "result = np.dot(A, B)\n",
    "print(\"Result of A × B:\\n\", result)\n"
   ]
  },
  {
   "cell_type": "code",
   "execution_count": 180,
   "id": "cd64ab5d-5f7c-4c7c-b561-e248369ffdaa",
   "metadata": {},
   "outputs": [
    {
     "name": "stdout",
     "output_type": "stream",
     "text": [
      "Dot Product: 32\n",
      "Cross Product: [-3  6 -3]\n"
     ]
    }
   ],
   "source": [
    "#8\n",
    "a = np.array([1, 2, 3])\n",
    "b = np.array([4, 5, 6])\n",
    "dot = np.dot(a, b)\n",
    "cross = np.cross(a, b)\n",
    "print(\"Dot Product:\", dot)\n",
    "print(\"Cross Product:\", cross)\n"
   ]
  },
  {
   "cell_type": "code",
   "execution_count": 182,
   "id": "e4b077b8-bc51-40e3-9a03-1eb57b505c83",
   "metadata": {},
   "outputs": [
    {
     "name": "stdout",
     "output_type": "stream",
     "text": [
      "Original Array: [6 3 7 4 6 9 2 6 7 4 3 7 7 2 5 4 1 7 5 1]\n",
      "Unique Elements: [1 2 3 4 5 6 7 9]\n"
     ]
    }
   ],
   "source": [
    "#9\n",
    "np.random.seed(42) \n",
    "data = np.random.randint(0, 10, size=20)\n",
    "unique_values = np.unique(data)\n",
    "print(\"Original Array:\", data)\n",
    "print(\"Unique Elements:\", unique_values)"
   ]
  },
  {
   "cell_type": "code",
   "execution_count": 184,
   "id": "88990dc1-c906-4ce5-976a-79727a8edc08",
   "metadata": {},
   "outputs": [
    {
     "name": "stdout",
     "output_type": "stream",
     "text": [
      "Inverse of A:\n",
      " [[ 0.6 -0.7]\n",
      " [-0.2  0.4]]\n"
     ]
    }
   ],
   "source": [
    "#10\n",
    "def invert_matrix(matrix):\n",
    "    matrix = np.array(matrix)\n",
    "    \n",
    "    if matrix.shape[0] != matrix.shape[1]:\n",
    "        raise ValueError(\"Matrix must be square to compute its inverse.\")\n",
    "    \n",
    "    return np.linalg.inv(matrix)\n",
    "A = np.array([[4, 7],\n",
    "              [2, 6]])\n",
    "A_inv = invert_matrix(A)\n",
    "print(\"Inverse of A:\\n\", A_inv)"
   ]
  },
  {
   "cell_type": "markdown",
   "id": "e2994a45-4c1b-4711-a6ba-ddb03e54346b",
   "metadata": {},
   "source": [
    "## Pandas"
   ]
  },
  {
   "cell_type": "code",
   "execution_count": 188,
   "id": "add03857-01f8-49a7-8dd2-e0c94ab65a61",
   "metadata": {},
   "outputs": [
    {
     "name": "stdout",
     "output_type": "stream",
     "text": [
      "   Unnamed: 0  year  month  day  dep_time  sched_dep_time  dep_delay  \\\n",
      "0           1  2013      1    1     517.0             515        2.0   \n",
      "1           2  2013      1    1     533.0             529        4.0   \n",
      "2           3  2013      1    1     542.0             540        2.0   \n",
      "3           4  2013      1    1     544.0             545       -1.0   \n",
      "4           5  2013      1    1     554.0             600       -6.0   \n",
      "5           6  2013      1    1     554.0             558       -4.0   \n",
      "6           7  2013      1    1     555.0             600       -5.0   \n",
      "7           8  2013      1    1     557.0             600       -3.0   \n",
      "8           9  2013      1    1     557.0             600       -3.0   \n",
      "9          10  2013      1    1     558.0             600       -2.0   \n",
      "\n",
      "   arr_time  sched_arr_time  arr_delay carrier  flight tailnum origin dest  \\\n",
      "0     830.0             819       11.0      UA    1545  N14228    EWR  IAH   \n",
      "1     850.0             830       20.0      UA    1714  N24211    LGA  IAH   \n",
      "2     923.0             850       33.0      AA    1141  N619AA    JFK  MIA   \n",
      "3    1004.0            1022      -18.0      B6     725  N804JB    JFK  BQN   \n",
      "4     812.0             837      -25.0      DL     461  N668DN    LGA  ATL   \n",
      "5     740.0             728       12.0      UA    1696  N39463    EWR  ORD   \n",
      "6     913.0             854       19.0      B6     507  N516JB    EWR  FLL   \n",
      "7     709.0             723      -14.0      EV    5708  N829AS    LGA  IAD   \n",
      "8     838.0             846       -8.0      B6      79  N593JB    JFK  MCO   \n",
      "9     753.0             745        8.0      AA     301  N3ALAA    LGA  ORD   \n",
      "\n",
      "   air_time  distance  hour  minute            time_hour  \n",
      "0     227.0      1400     5      15  2013-01-01 05:00:00  \n",
      "1     227.0      1416     5      29  2013-01-01 05:00:00  \n",
      "2     160.0      1089     5      40  2013-01-01 05:00:00  \n",
      "3     183.0      1576     5      45  2013-01-01 05:00:00  \n",
      "4     116.0       762     6       0  2013-01-01 06:00:00  \n",
      "5     150.0       719     5      58  2013-01-01 05:00:00  \n",
      "6     158.0      1065     6       0  2013-01-01 06:00:00  \n",
      "7      53.0       229     6       0  2013-01-01 06:00:00  \n",
      "8     140.0       944     6       0  2013-01-01 06:00:00  \n",
      "9     138.0       733     6       0  2013-01-01 06:00:00  \n"
     ]
    }
   ],
   "source": [
    "#11\n",
    "df=pd.read_csv(\"flightsdata.csv\")\n",
    "print(df.head(10))"
   ]
  },
  {
   "cell_type": "code",
   "execution_count": 193,
   "id": "5df81cf4-3a37-4b99-be24-1a6e9a095fa3",
   "metadata": {},
   "outputs": [
    {
     "name": "stdout",
     "output_type": "stream",
     "text": [
      "       HeartRate         Glucose     \n",
      "            mean  sum       mean  sum\n",
      "Group                                \n",
      "A      75.666667  227  87.333333  262\n",
      "B      77.000000  231  89.666667  269\n"
     ]
    }
   ],
   "source": [
    "#12\n",
    "df = pd.DataFrame({\n",
    "    'Group': ['A', 'B', 'A', 'B', 'A', 'B'],\n",
    "    'HeartRate': [72, 75, 78, 80, 77, 76],\n",
    "    'Glucose': [90, 88, 85, 92, 87, 89]\n",
    "})\n",
    "grouped_stats = df.groupby('Group').agg(['mean', 'sum'])\n",
    "print(grouped_stats)\n"
   ]
  },
  {
   "cell_type": "code",
   "execution_count": 195,
   "id": "caaf55fa-61d7-48e4-8745-6ca7b9e5fdda",
   "metadata": {},
   "outputs": [
    {
     "name": "stdout",
     "output_type": "stream",
     "text": [
      "Original DataFrame:\n",
      "    HeartRate  Glucose\n",
      "0       72.0     90.0\n",
      "1        NaN     88.0\n",
      "2       78.0      NaN\n",
      "3       80.0     92.0\n",
      "4        NaN     87.0\n",
      "\n",
      "Filled DataFrame:\n",
      "    HeartRate  Glucose\n",
      "0  72.000000    90.00\n",
      "1  76.666667    88.00\n",
      "2  78.000000    89.25\n",
      "3  80.000000    92.00\n",
      "4  76.666667    87.00\n"
     ]
    }
   ],
   "source": [
    "#13\n",
    "df = pd.DataFrame({\n",
    "    'HeartRate': [72, np.nan, 78, 80, np.nan],\n",
    "    'Glucose': [90, 88, np.nan, 92, 87]\n",
    "})\n",
    "df_filled = df.fillna(df.mean(numeric_only=True))\n",
    "print(\"Original DataFrame:\\n\", df)\n",
    "print(\"\\nFilled DataFrame:\\n\", df_filled)"
   ]
  },
  {
   "cell_type": "code",
   "execution_count": 197,
   "id": "8d47831c-12af-43f5-ab9a-2a9d1c2b9758",
   "metadata": {},
   "outputs": [
    {
     "name": "stdout",
     "output_type": "stream",
     "text": [
      "Inner Join:\n",
      "    PatientID  HeartRate  Glucose\n",
      "0        102         75       88\n",
      "1        103         78       85\n",
      "\n",
      "Outer Join:\n",
      "    PatientID  HeartRate  Glucose\n",
      "0        101       72.0      NaN\n",
      "1        102       75.0     88.0\n",
      "2        103       78.0     85.0\n",
      "3        104        NaN     90.0\n",
      "\n",
      "Left Join:\n",
      "    PatientID  HeartRate  Glucose\n",
      "0        101         72      NaN\n",
      "1        102         75     88.0\n",
      "2        103         78     85.0\n",
      "\n",
      "Right Join:\n",
      "    PatientID  HeartRate  Glucose\n",
      "0        102       75.0       88\n",
      "1        103       78.0       85\n",
      "2        104        NaN       90\n"
     ]
    }
   ],
   "source": [
    "#14\n",
    "df1 = pd.DataFrame({\n",
    "    'PatientID': [101, 102, 103],\n",
    "    'HeartRate': [72, 75, 78]\n",
    "})\n",
    "\n",
    "df2 = pd.DataFrame({\n",
    "    'PatientID': [102, 103, 104],\n",
    "    'Glucose': [88, 85, 90]\n",
    "})\n",
    "inner = pd.merge(df1, df2, on='PatientID', how='inner')\n",
    "outer = pd.merge(df1, df2, on='PatientID', how='outer')\n",
    "left = pd.merge(df1, df2, on='PatientID', how='left')\n",
    "right = pd.merge(df1, df2, on='PatientID', how='right')\n",
    "print(\"Inner Join:\\n\", inner)\n",
    "print(\"\\nOuter Join:\\n\", outer)\n",
    "print(\"\\nLeft Join:\\n\", left)\n",
    "print(\"\\nRight Join:\\n\", right)\n"
   ]
  },
  {
   "cell_type": "code",
   "execution_count": 199,
   "id": "70e9e5cc-2712-4622-8014-772ac1b41d95",
   "metadata": {},
   "outputs": [
    {
     "name": "stdout",
     "output_type": "stream",
     "text": [
      "   Glucose\n",
      "0     90.0\n",
      "1     88.5\n",
      "2      NaN\n",
      "3     92.0\n",
      "4      NaN\n",
      "5     87.0\n"
     ]
    }
   ],
   "source": [
    "#15\n",
    "df = pd.DataFrame({\n",
    "    'Glucose': ['90', '88.5', 'error', '92', None, '87']\n",
    "})\n",
    "df['Glucose'] = pd.to_numeric(df['Glucose'], errors='coerce')\n",
    "print(df)\n"
   ]
  },
  {
   "cell_type": "code",
   "execution_count": 201,
   "id": "0e30b28e-0a97-439c-b3bd-b3939e21978e",
   "metadata": {},
   "outputs": [
    {
     "name": "stdout",
     "output_type": "stream",
     "text": [
      "   PatientID  Glucose\n",
      "0        101       85\n",
      "2        103       88\n"
     ]
    }
   ],
   "source": [
    "#16\n",
    "df = pd.DataFrame({\n",
    "    'PatientID': [101, 102, 103, 104, 105],\n",
    "    'Glucose': [85, 92, 88, 95, 78]\n",
    "})\n",
    "filtered_df = df[(df['Glucose'] >= 85) & (df['Glucose'] <= 90)]\n",
    "print(filtered_df)\n"
   ]
  },
  {
   "cell_type": "code",
   "execution_count": 203,
   "id": "f61462b4-6633-47f6-abb9-236f88e107e8",
   "metadata": {},
   "outputs": [
    {
     "name": "stdout",
     "output_type": "stream",
     "text": [
      "          mean                           sum                  \n",
      "       Glucose       HeartRate       Glucose     HeartRate    \n",
      "Device       X     Y         X     Y       X   Y         X   Y\n",
      "Group                                                         \n",
      "A         90.0  88.0      72.0  75.0      90  88        72  75\n",
      "B         85.0  92.0      78.0  80.0      85  92        78  80\n",
      "C         87.0  89.0      77.0  76.0      87  89        77  76\n"
     ]
    }
   ],
   "source": [
    "#17\n",
    "df = pd.DataFrame({\n",
    "    'Group': ['A', 'A', 'B', 'B', 'C', 'C'],\n",
    "    'Device': ['X', 'Y', 'X', 'Y', 'X', 'Y'],\n",
    "    'HeartRate': [72, 75, 78, 80, 77, 76],\n",
    "    'Glucose': [90, 88, 85, 92, 87, 89]\n",
    "})\n",
    "pivot = pd.pivot_table(\n",
    "    df,\n",
    "    index='Group',\n",
    "    columns='Device',\n",
    "    values=['HeartRate', 'Glucose'],\n",
    "    aggfunc=['mean', 'sum']\n",
    ")\n",
    "print(pivot)\n"
   ]
  },
  {
   "cell_type": "code",
   "execution_count": 205,
   "id": "5504946f-1891-4748-916c-d4181dfa7d4c",
   "metadata": {},
   "outputs": [
    {
     "name": "stdout",
     "output_type": "stream",
     "text": [
      "Original Glucose:\n",
      " 0    90\n",
      "1    88\n",
      "2    85\n",
      "3    92\n",
      "4    87\n",
      "dtype: int64\n",
      "\n",
      "Flagged Glucose:\n",
      " 0    Normal\n",
      "1    Normal\n",
      "2    Normal\n",
      "3      High\n",
      "4    Normal\n",
      "dtype: object\n"
     ]
    }
   ],
   "source": [
    "#18\n",
    "glucose = pd.Series([90, 88, 85, 92, 87])\n",
    "def flag_high(value):\n",
    "    return \"High\" if value > 90 else \"Normal\"\n",
    "glucose_flagged = glucose.apply(flag_high)\n",
    "print(\"Original Glucose:\\n\", glucose)\n",
    "print(\"\\nFlagged Glucose:\\n\", glucose_flagged)\n"
   ]
  },
  {
   "cell_type": "code",
   "execution_count": 207,
   "id": "549ad1ae-391a-4d62-bafa-2c5332481d52",
   "metadata": {},
   "outputs": [
    {
     "name": "stdout",
     "output_type": "stream",
     "text": [
      "   PatientID  Glucose GlucoseCategory\n",
      "0        101       85             Low\n",
      "1        102       92            High\n",
      "2        103       88          Normal\n",
      "3        104       95            High\n",
      "4        105       78             Low\n"
     ]
    }
   ],
   "source": [
    "#19\n",
    "df = pd.DataFrame({\n",
    "    'PatientID': [101, 102, 103, 104, 105],\n",
    "    'Glucose': [85, 92, 88, 95, 78]\n",
    "})\n",
    "bins = [70, 85, 90, 100]\n",
    "labels = ['Low', 'Normal', 'High']\n",
    "df['GlucoseCategory'] = pd.cut(df['Glucose'], bins=bins, labels=labels, include_lowest=True)\n",
    "print(df)\n"
   ]
  },
  {
   "cell_type": "code",
   "execution_count": 209,
   "id": "833fbb6d-4a1c-40a0-a025-4f2faf745530",
   "metadata": {},
   "outputs": [
    {
     "name": "stdout",
     "output_type": "stream",
     "text": [
      "  Diagnosis\n",
      "0    Normal\n",
      "1  Elevated\n",
      "2    Normal\n",
      "3       Low\n",
      "4  Elevated\n"
     ]
    }
   ],
   "source": [
    "#20\n",
    "df = pd.DataFrame({\n",
    "    'Diagnosis': ['Normal', 'High', 'Normal', 'Low', 'High']\n",
    "})\n",
    "df['Diagnosis'] = df['Diagnosis'].replace('High', 'Elevated')\n",
    "print(df)\n"
   ]
  },
  {
   "cell_type": "markdown",
   "id": "b1bf485c-3324-4bcb-8aeb-f4be0c72389c",
   "metadata": {},
   "source": [
    "## Data Cleaning & Preprocessing"
   ]
  },
  {
   "cell_type": "code",
   "execution_count": 212,
   "id": "689b8ea6-e569-4b2b-b482-2d620e28f056",
   "metadata": {},
   "outputs": [
    {
     "name": "stdout",
     "output_type": "stream",
     "text": [
      "Cleaned DataFrame:\n",
      "    HeartRate  Glucose\n",
      "0  72.000000   90.000\n",
      "1  75.000000   88.500\n",
      "2  75.666667   89.375\n",
      "3  80.000000   92.000\n",
      "4  75.666667   87.000\n"
     ]
    }
   ],
   "source": [
    "#21\n",
    "df = pd.DataFrame({\n",
    "    'HeartRate': ['72', '75', 'error', '80', None],\n",
    "    'Glucose': ['90', '88.5', 'NaN', '92', '87']\n",
    "})\n",
    "df['HeartRate'] = pd.to_numeric(df['HeartRate'], errors='coerce')\n",
    "df['Glucose'] = pd.to_numeric(df['Glucose'], errors='coerce')\n",
    "df_cleaned = df.fillna(df.mean(numeric_only=True))\n",
    "print(\"Cleaned DataFrame:\\n\", df_cleaned)"
   ]
  },
  {
   "cell_type": "code",
   "execution_count": 214,
   "id": "6247e369-1440-4fd1-a59a-fda74c4b4885",
   "metadata": {},
   "outputs": [
    {
     "name": "stdout",
     "output_type": "stream",
     "text": [
      "Duplicate Rows:\n",
      "    PatientID  Glucose\n",
      "3        101       90\n",
      "\n",
      "Cleaned DataFrame:\n",
      "    PatientID  Glucose\n",
      "0        101       90\n",
      "1        102       88\n",
      "2        103       85\n",
      "4        104       92\n"
     ]
    }
   ],
   "source": [
    "#22\n",
    "df = pd.DataFrame({\n",
    "    'PatientID': [101, 102, 103, 101, 104],\n",
    "    'Glucose': [90, 88, 85, 90, 92]\n",
    "})\n",
    "duplicates = df[df.duplicated()]\n",
    "print(\"Duplicate Rows:\\n\", duplicates)\n",
    "df_cleaned = df.drop_duplicates()\n",
    "print(\"\\nCleaned DataFrame:\\n\", df_cleaned)"
   ]
  },
  {
   "cell_type": "code",
   "execution_count": 218,
   "id": "1b657f79-6bef-4da3-bca9-442053659228",
   "metadata": {},
   "outputs": [
    {
     "name": "stdout",
     "output_type": "stream",
     "text": [
      "Normalized Data:\n",
      "    HeartRate   Glucose\n",
      "0  -1.613118  0.662085\n",
      "1  -0.513265 -0.165521\n",
      "2   0.586588 -1.406930\n",
      "3   1.319824  1.489691\n",
      "4   0.219971 -0.579324\n"
     ]
    },
    {
     "data": {
      "text/plain": [
       "'- Min-Max Scaling: Great for algorithms sensitive to absolute magnitudes (e.g., KNN, neural nets).\\n- Standard Scaling: Ideal for models that assume normality (e.g., linear regression, SVM, PCA).\\n'"
      ]
     },
     "execution_count": 218,
     "metadata": {},
     "output_type": "execute_result"
    }
   ],
   "source": [
    "#23\n",
    "from sklearn.preprocessing import StandardScaler\n",
    "df = pd.DataFrame({\n",
    "    'HeartRate': [72, 75, 78, 80, 77],\n",
    "    'Glucose': [90, 88, 85, 92, 87]\n",
    "})\n",
    "scaler = StandardScaler()\n",
    "normalized = scaler.fit_transform(df)\n",
    "df_normalized = pd.DataFrame(normalized, columns=df.columns)\n",
    "print(\"Normalized Data:\\n\", df_normalized)\n",
    "\"\"\"- Min-Max Scaling: Great for algorithms sensitive to absolute magnitudes (e.g., KNN, neural nets).\n",
    "- Standard Scaling: Ideal for models that assume normality (e.g., linear regression, SVM, PCA).\n",
    "\"\"\""
   ]
  },
  {
   "cell_type": "code",
   "execution_count": 222,
   "id": "68e6b55f-1363-4859-bea3-f288ae02f3f9",
   "metadata": {},
   "outputs": [
    {
     "name": "stdout",
     "output_type": "stream",
     "text": [
      "  Diagnosis  Diagnosis_encoded\n",
      "0    Normal                  2\n",
      "1      High                  0\n",
      "2       Low                  1\n",
      "3      High                  0\n",
      "4    Normal                  2\n"
     ]
    },
    {
     "data": {
      "text/plain": [
       "\"- The categorical variable is ordinal (e.g., 'Low' < 'Medium' < 'High')\\n- You're using models that are insensitive to numeric magnitude\\n\""
      ]
     },
     "execution_count": 222,
     "metadata": {},
     "output_type": "execute_result"
    }
   ],
   "source": [
    "#24\n",
    "from sklearn.preprocessing import LabelEncoder\n",
    "df = pd.DataFrame({\n",
    "    'Diagnosis': ['Normal', 'High', 'Low', 'High', 'Normal']\n",
    "})\n",
    "le = LabelEncoder()\n",
    "df['Diagnosis_encoded'] = le.fit_transform(df['Diagnosis'])\n",
    "print(df)\n",
    "\"\"\"- The categorical variable is ordinal (e.g., 'Low' < 'Medium' < 'High')\n",
    "- You're using models that are insensitive to numeric magnitude\n",
    "\"\"\""
   ]
  },
  {
   "cell_type": "code",
   "execution_count": 224,
   "id": "3bef65d3-b584-4dff-958a-8f85c8125458",
   "metadata": {},
   "outputs": [
    {
     "name": "stdout",
     "output_type": "stream",
     "text": [
      "Training Features:\n",
      "    HeartRate  Glucose\n",
      "5         74       89\n",
      "0         72       90\n",
      "7         76       86\n",
      "2         78       85\n",
      "9         81       84\n",
      "4         77       87\n",
      "3         80       92\n",
      "6         73       91\n",
      "\n",
      "Testing Features:\n",
      "    HeartRate  Glucose\n",
      "8         79       93\n",
      "1         75       88\n"
     ]
    }
   ],
   "source": [
    "#25\n",
    "from sklearn.model_selection import train_test_split\n",
    "df = pd.DataFrame({\n",
    "    'HeartRate': [72, 75, 78, 80, 77, 74, 73, 76, 79, 81],\n",
    "    'Glucose': [90, 88, 85, 92, 87, 89, 91, 86, 93, 84],\n",
    "    'Diagnosis': ['Normal', 'High', 'Low', 'High', 'Normal', 'Low', 'Normal', 'High', 'Low', 'Normal']\n",
    "})\n",
    "X = df[['HeartRate', 'Glucose']]\n",
    "y = df['Diagnosis']\n",
    "X_train, X_test, y_train, y_test = train_test_split(\n",
    "    X, y, test_size=0.2, shuffle=True, random_state=42\n",
    ")\n",
    "print(\"Training Features:\\n\", X_train)\n",
    "print(\"\\nTesting Features:\\n\", X_test)\n"
   ]
  },
  {
   "cell_type": "markdown",
   "id": "37a8284b-5606-4d50-8c92-875b94518bcd",
   "metadata": {},
   "source": [
    "## Exploratory Data Analysis"
   ]
  },
  {
   "cell_type": "code",
   "execution_count": 226,
   "id": "ef603227-a8d3-4942-9ebe-ff2570f27d3c",
   "metadata": {},
   "outputs": [
    {
     "name": "stdout",
     "output_type": "stream",
     "text": [
      "Summary Statistics:\n",
      "            Mean  Median  Mode   StdDev\n",
      "HeartRate  76.5    76.5    72  3.02765\n",
      "Glucose    88.5    88.5    84  3.02765\n"
     ]
    }
   ],
   "source": [
    "#26\n",
    "df = pd.DataFrame({\n",
    "    'HeartRate': [72, 75, 78, 80, 77, 74, 73, 76, 79, 81],\n",
    "    'Glucose': [90, 88, 85, 92, 87, 89, 91, 86, 93, 84]\n",
    "})\n",
    "mean_values = df.mean(numeric_only=True)\n",
    "median_values = df.median(numeric_only=True)\n",
    "mode_values = df.mode(numeric_only=True).iloc[0]\n",
    "std_values = df.std(numeric_only=True)\n",
    "summary = pd.DataFrame({\n",
    "    'Mean': mean_values,\n",
    "    'Median': median_values,\n",
    "    'Mode': mode_values,\n",
    "    'StdDev': std_values\n",
    "})\n",
    "print(\"Summary Statistics:\\n\", summary)"
   ]
  },
  {
   "cell_type": "code",
   "execution_count": 228,
   "id": "8b7cd40d-adc8-4bc1-b3b7-505de9dd4478",
   "metadata": {},
   "outputs": [
    {
     "data": {
      "image/png": "[encoded data removed]",
      "text/plain": [
       "<Figure size 1200x500 with 2 Axes>"
      ]
     },
     "metadata": {},
     "output_type": "display_data"
    }
   ],
   "source": [
    "#27\n",
    "import seaborn as sns\n",
    "df = pd.DataFrame({\n",
    "    'Glucose': [90, 88, 85, 92, 87, 89, 91, 86, 93, 84, 150]  # 150 is a clear outlier\n",
    "})\n",
    "plt.figure(figsize=(12, 5))\n",
    "plt.subplot(1, 2, 1)\n",
    "sns.histplot(df['Glucose'], bins=10, kde=True, color='skyblue')\n",
    "plt.title('Glucose Distribution - Histogram')\n",
    "plt.subplot(1, 2, 2)\n",
    "sns.boxplot(x=df['Glucose'], color='lightgreen')\n",
    "plt.title('Glucose Distribution - Box Plot')\n",
    "\n",
    "plt.tight_layout()\n",
    "plt.show()"
   ]
  },
  {
   "cell_type": "code",
   "execution_count": 230,
   "id": "72e9d8d1-92f8-47ff-8c7b-2e2374857c5e",
   "metadata": {},
   "outputs": [
    {
     "data": {
      "image/png": "[encoded data removed]",
      "text/plain": [
       "<Figure size 800x600 with 2 Axes>"
      ]
     },
     "metadata": {},
     "output_type": "display_data"
    }
   ],
   "source": [
    "#28\n",
    "df = pd.DataFrame({\n",
    "    'HeartRate': [72, 75, 78, 80, 77, 74, 73, 76, 79, 81],\n",
    "    'Glucose': [90, 88, 85, 92, 87, 89, 91, 86, 93, 84],\n",
    "    'Age': [25, 30, 35, 40, 45, 50, 55, 60, 65, 70]\n",
    "})\n",
    "corr_matrix = df.corr(numeric_only=True)\n",
    "plt.figure(figsize=(8, 6))\n",
    "sns.heatmap(corr_matrix, annot=True, cmap='coolwarm', fmt=\".2f\")\n",
    "plt.title('Correlation Matrix Heatmap')\n",
    "plt.show()\n"
   ]
  },
  {
   "cell_type": "code",
   "execution_count": 232,
   "id": "d6f6fb8e-75ce-496e-bd0e-7d577d19e555",
   "metadata": {},
   "outputs": [
    {
     "data": {
      "image/png": "[encoded data removed]",
      "text/plain": [
       "<Figure size 750x750 with 12 Axes>"
      ]
     },
     "metadata": {},
     "output_type": "display_data"
    }
   ],
   "source": [
    "#29\n",
    "df = pd.DataFrame({\n",
    "    'HeartRate': [72, 75, 78, 80, 77, 74, 73, 76, 79, 81],\n",
    "    'Glucose': [90, 88, 85, 92, 87, 89, 91, 86, 93, 84],\n",
    "    'Age': [25, 30, 35, 40, 45, 50, 55, 60, 65, 70]\n",
    "})\n",
    "sns.pairplot(df)\n",
    "plt.suptitle(\"Scatter Plot Matrix of Biomedical Features\", y=1.02)\n",
    "plt.show()\n"
   ]
  },
  {
   "cell_type": "code",
   "execution_count": 236,
   "id": "6859be82-c488-402a-abee-ccbbb5352ef5",
   "metadata": {},
   "outputs": [
    {
     "data": {
      "image/png": "[encoded data removed]",
      "text/plain": [
       "<Figure size 800x500 with 1 Axes>"
      ]
     },
     "metadata": {},
     "output_type": "display_data"
    }
   ],
   "source": [
    "#30\n",
    "df = pd.DataFrame({\n",
    "    'HeartRate': [72, 75, 78, 80, 77, 74, 73, 76, 79, 81],\n",
    "    'Glucose': [90, 88, 85, 92, 87, 89, 91, 86, 93, 84],\n",
    "    'Age': [25, 30, 35, 40, 45, 50, 55, 60, 65, 70]\n",
    "})\n",
    "df['HR_per_Age'] = df['HeartRate'] / df['Age'] \n",
    "df['Glucose_Age_Ratio'] = df['Glucose'] / df['Age']     \n",
    "df['HR_Glucose_Product'] = df['HeartRate'] * df['Glucose']\n",
    "from sklearn.ensemble import RandomForestClassifier\n",
    "df['Diagnosis'] = ['Normal', 'High', 'Low', 'High', 'Normal', 'Low', 'Normal', 'High', 'Low', 'Normal']\n",
    "le = LabelEncoder()\n",
    "y = le.fit_transform(df['Diagnosis'])\n",
    "X = df.drop(columns='Diagnosis')\n",
    "X_train, X_test, y_train, y_test = train_test_split(X, y, test_size=0.2, random_state=42)\n",
    "model = RandomForestClassifier(random_state=42)\n",
    "model.fit(X_train, y_train)\n",
    "importances = pd.Series(model.feature_importances_, index=X.columns)\n",
    "plt.figure(figsize=(8, 5))\n",
    "importances.sort_values().plot(kind='barh', color='teal')\n",
    "plt.title('Feature Importance from Random Forest')\n",
    "plt.xlabel('Importance Score')\n",
    "plt.tight_layout()\n",
    "plt.show()\n"
   ]
  },
  {
   "cell_type": "code",
   "execution_count": null,
   "id": "04ffaba0-7685-4ff0-817a-0b2501af7212",
   "metadata": {},
   "outputs": [],
   "source": []
  }
 ],
 "metadata": {
  "kernelspec": {
   "display_name": "Python [conda env:base] *",
   "language": "python",
   "name": "conda-base-py"
  },
  "language_info": {
   "codemirror_mode": {
    "name": "ipython",
    "version": 3
   },
   "file_extension": ".py",
   "mimetype": "text/x-python",
   "name": "python",
   "nbconvert_exporter": "python",
   "pygments_lexer": "ipython3",
   "version": "3.12.7"
  }
 },
 "nbformat": 4,
 "nbformat_minor": 5
}
